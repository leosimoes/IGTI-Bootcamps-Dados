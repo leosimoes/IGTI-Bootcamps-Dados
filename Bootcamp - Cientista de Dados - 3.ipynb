{
 "cells": [
  {
   "cell_type": "markdown",
   "metadata": {},
   "source": [
    "# IGTI - Bootcamp - Cientista de Dados\n",
    "\n",
    "## Desafio 2\n",
    "\n",
    "Autor: Leonardo Simões"
   ]
  },
  {
   "cell_type": "markdown",
   "metadata": {},
   "source": [
    "### Perguntas\n",
    "\n",
    "    1) Quantas pessoas possuem idade maior ou igual a 50 anos?\n",
    "    2) Qual a média de idade das pessoas que moram em Mato Grosso? \n",
    "    3) Quantas pessoas nasceram nos anos de 1968 a 1978 (incluindo 1968 e 1978)? \n",
    "    4) Ao executar o seguinte comando SQL no banco de dados criado, qual é o valor retornado?\n",
    "\n",
    "        select count(*) from tb_pessoa inner join\n",
    "        tb_tiposanguineo on tb_pessoa.id_tiposanguineo =\n",
    "        tb_tiposanguineo.id inner join tb_cidade on\n",
    "        tb_pessoa.id_cidade = tb_cidade.id inner join\n",
    "        tb_estado on tb_cidade.id_estado = tb_estado.id where\n",
    "        tb_tiposanguineo.tipo like \"AB-\" and (tb_estado.sigla\n",
    "        like \"AP\" or tb_estado.sigla like \"PE\")\n",
    "\n",
    "    5) Qual o nome da pessoa mais velha na base de dados? \n",
    "    6) Qual o nome da pessoa mais nova da base de dados? \n",
    "    7) Qual jogo possui a maior venda global (“Global_Sales”) para a plataforma PS2? \n",
    "    8) Qual a posição no Rank global (“Rank”) está o segundo jogo mais vendido na Europa? Ordenar pelo atributo \"EU_Sales\". \n",
    "    9) Qual o nome do jogo que possui a menor venda global (“Global_Sales”) no ano de 2010? \n",
    "    10) Qual a plataforma (“Platform”) do jogo mais vendido considerando as vendas globais (\"Global_Sales \") no ano de 2008?\n",
    "    11) Qual o nome do jogo que é exibido ao executar o comando para retornar o primeiro documento da coleção onde a condição seja a plataforma (“Platform”) igual a PS4? \n",
    "    12) Quantos documentos existem na base de dados referentes à plataforma (“Platform”) “X360”? \n",
    "    13) Qual a plataforma (“Platform”) do jogo mais vendido no Japão (\"JP_Sales\") no ano de 2015? \n",
    "    14) Em que posição do “Rank” o jogo “The Witcher 3: Wild Hunt” está considerando a plataforma “XOne”? \n",
    "    15) Quantos documentos são retornados ao executar uma consulta em que o atributo “Global_Sales” seja maior \n",
    "        ou igual a 2?  \n"
   ]
  },
  {
   "cell_type": "code",
   "execution_count": 1,
   "metadata": {},
   "outputs": [],
   "source": [
    "import numpy as np\n",
    "import pandas as pd\n",
    "import json\n",
    "\n",
    "import requests\n",
    "import os\n",
    "from functools import reduce\n",
    "\n",
    "import matplotlib.pyplot as plt\n",
    "import seaborn as sns\n",
    "%matplotlib inline\n",
    "\n",
    "# suppress warnings from final output\n",
    "import warnings\n",
    "warnings.simplefilter(\"ignore\")"
   ]
  },
  {
   "cell_type": "markdown",
   "metadata": {},
   "source": [
    "### Desenvolvimento - Parte 1"
   ]
  },
  {
   "cell_type": "code",
   "execution_count": 2,
   "metadata": {},
   "outputs": [],
   "source": [
    "URL_API = 'https://api-coleta-dados.herokuapp.com/api/pessoas'"
   ]
  },
  {
   "cell_type": "code",
   "execution_count": 3,
   "metadata": {},
   "outputs": [],
   "source": [
    "r = requests.get(URL_API)\n",
    "data = r.text"
   ]
  },
  {
   "cell_type": "code",
   "execution_count": 4,
   "metadata": {},
   "outputs": [],
   "source": [
    "json_data = json.loads(data)\n",
    "df = pd.DataFrame(json_data)"
   ]
  },
  {
   "cell_type": "code",
   "execution_count": 5,
   "metadata": {},
   "outputs": [
    {
     "data": {
      "text/html": [
       "<div>\n",
       "<style scoped>\n",
       "    .dataframe tbody tr th:only-of-type {\n",
       "        vertical-align: middle;\n",
       "    }\n",
       "\n",
       "    .dataframe tbody tr th {\n",
       "        vertical-align: top;\n",
       "    }\n",
       "\n",
       "    .dataframe thead th {\n",
       "        text-align: right;\n",
       "    }\n",
       "</style>\n",
       "<table border=\"1\" class=\"dataframe\">\n",
       "  <thead>\n",
       "    <tr style=\"text-align: right;\">\n",
       "      <th></th>\n",
       "      <th>nome</th>\n",
       "      <th>idade</th>\n",
       "      <th>data_nasc</th>\n",
       "      <th>sexo</th>\n",
       "      <th>signo</th>\n",
       "      <th>cidade</th>\n",
       "      <th>estado</th>\n",
       "      <th>altura</th>\n",
       "      <th>peso</th>\n",
       "      <th>tipo_sanguineo</th>\n",
       "      <th>cor</th>\n",
       "    </tr>\n",
       "  </thead>\n",
       "  <tbody>\n",
       "    <tr>\n",
       "      <th>0</th>\n",
       "      <td>Silvana Hadassa</td>\n",
       "      <td>NaN</td>\n",
       "      <td>12/06/1964</td>\n",
       "      <td>Feminino</td>\n",
       "      <td>Gêmeos</td>\n",
       "      <td>Brasília</td>\n",
       "      <td>DF</td>\n",
       "      <td>1,67</td>\n",
       "      <td>50</td>\n",
       "      <td>A+</td>\n",
       "      <td>vermelho</td>\n",
       "    </tr>\n",
       "    <tr>\n",
       "      <th>1</th>\n",
       "      <td>Thales Kaique</td>\n",
       "      <td>27.0</td>\n",
       "      <td>10/12/1993</td>\n",
       "      <td>Masculino</td>\n",
       "      <td>Sagitário</td>\n",
       "      <td>Campo Grande</td>\n",
       "      <td>MS</td>\n",
       "      <td>1,63</td>\n",
       "      <td>110</td>\n",
       "      <td>B+</td>\n",
       "      <td>laranja</td>\n",
       "    </tr>\n",
       "    <tr>\n",
       "      <th>2</th>\n",
       "      <td>Henry Nathan</td>\n",
       "      <td>29.0</td>\n",
       "      <td>21/09/1991</td>\n",
       "      <td>Masculino</td>\n",
       "      <td>Virgem</td>\n",
       "      <td>Macapá</td>\n",
       "      <td>AP</td>\n",
       "      <td>1,86</td>\n",
       "      <td>106</td>\n",
       "      <td>AB-</td>\n",
       "      <td>verde</td>\n",
       "    </tr>\n",
       "    <tr>\n",
       "      <th>3</th>\n",
       "      <td>Lorenzo Vinicius</td>\n",
       "      <td>64.0</td>\n",
       "      <td>22/10/1956</td>\n",
       "      <td>Masculino</td>\n",
       "      <td>Libra</td>\n",
       "      <td>Contagem</td>\n",
       "      <td>MG</td>\n",
       "      <td>1,87</td>\n",
       "      <td>100</td>\n",
       "      <td>O+</td>\n",
       "      <td>vermelho</td>\n",
       "    </tr>\n",
       "    <tr>\n",
       "      <th>4</th>\n",
       "      <td>Cauã Henrique</td>\n",
       "      <td>50.0</td>\n",
       "      <td>09/03</td>\n",
       "      <td>Masculino</td>\n",
       "      <td>Peixes</td>\n",
       "      <td>Rondonópolis</td>\n",
       "      <td>MT</td>\n",
       "      <td>1,74</td>\n",
       "      <td>83</td>\n",
       "      <td>O-</td>\n",
       "      <td>vermelho</td>\n",
       "    </tr>\n",
       "  </tbody>\n",
       "</table>\n",
       "</div>"
      ],
      "text/plain": [
       "               nome  idade   data_nasc       sexo      signo        cidade  \\\n",
       "0   Silvana Hadassa    NaN  12/06/1964   Feminino     Gêmeos      Brasília   \n",
       "1     Thales Kaique   27.0  10/12/1993  Masculino  Sagitário  Campo Grande   \n",
       "2      Henry Nathan   29.0  21/09/1991  Masculino     Virgem        Macapá   \n",
       "3  Lorenzo Vinicius   64.0  22/10/1956  Masculino      Libra      Contagem   \n",
       "4     Cauã Henrique   50.0       09/03  Masculino     Peixes  Rondonópolis   \n",
       "\n",
       "  estado altura  peso tipo_sanguineo       cor  \n",
       "0     DF   1,67    50             A+  vermelho  \n",
       "1     MS   1,63   110             B+   laranja  \n",
       "2     AP   1,86   106            AB-     verde  \n",
       "3     MG   1,87   100             O+  vermelho  \n",
       "4     MT   1,74    83             O-  vermelho  "
      ]
     },
     "execution_count": 5,
     "metadata": {},
     "output_type": "execute_result"
    }
   ],
   "source": [
    "df.head()"
   ]
  },
  {
   "cell_type": "markdown",
   "metadata": {},
   "source": [
    "    1) Quantas pessoas possuem idade maior ou igual a 50 anos?"
   ]
  },
  {
   "cell_type": "code",
   "execution_count": 6,
   "metadata": {},
   "outputs": [
    {
     "data": {
      "text/plain": [
       "23"
      ]
     },
     "execution_count": 6,
     "metadata": {},
     "output_type": "execute_result"
    }
   ],
   "source": [
    "df.query('idade >= 50').shape[0]"
   ]
  },
  {
   "cell_type": "markdown",
   "metadata": {},
   "source": [
    "    2) Qual a média de idade das pessoas que moram em Mato Grosso? "
   ]
  },
  {
   "cell_type": "code",
   "execution_count": 7,
   "metadata": {},
   "outputs": [
    {
     "data": {
      "text/html": [
       "<div>\n",
       "<style scoped>\n",
       "    .dataframe tbody tr th:only-of-type {\n",
       "        vertical-align: middle;\n",
       "    }\n",
       "\n",
       "    .dataframe tbody tr th {\n",
       "        vertical-align: top;\n",
       "    }\n",
       "\n",
       "    .dataframe thead th {\n",
       "        text-align: right;\n",
       "    }\n",
       "</style>\n",
       "<table border=\"1\" class=\"dataframe\">\n",
       "  <thead>\n",
       "    <tr style=\"text-align: right;\">\n",
       "      <th></th>\n",
       "      <th>nome</th>\n",
       "      <th>idade</th>\n",
       "      <th>data_nasc</th>\n",
       "      <th>sexo</th>\n",
       "      <th>signo</th>\n",
       "      <th>cidade</th>\n",
       "      <th>estado</th>\n",
       "      <th>altura</th>\n",
       "      <th>peso</th>\n",
       "      <th>tipo_sanguineo</th>\n",
       "      <th>cor</th>\n",
       "    </tr>\n",
       "  </thead>\n",
       "  <tbody>\n",
       "    <tr>\n",
       "      <th>4</th>\n",
       "      <td>Cauã Henrique</td>\n",
       "      <td>50.0</td>\n",
       "      <td>09/03</td>\n",
       "      <td>Masculino</td>\n",
       "      <td>Peixes</td>\n",
       "      <td>Rondonópolis</td>\n",
       "      <td>MT</td>\n",
       "      <td>1,74</td>\n",
       "      <td>83</td>\n",
       "      <td>O-</td>\n",
       "      <td>vermelho</td>\n",
       "    </tr>\n",
       "    <tr>\n",
       "      <th>15</th>\n",
       "      <td>Benício Guilherme</td>\n",
       "      <td>37.0</td>\n",
       "      <td>09/02/1983</td>\n",
       "      <td>Masculino</td>\n",
       "      <td>Aquário</td>\n",
       "      <td>Rondonópolis</td>\n",
       "      <td>MT</td>\n",
       "      <td>1,63</td>\n",
       "      <td>95</td>\n",
       "      <td>O-</td>\n",
       "      <td>laranja</td>\n",
       "    </tr>\n",
       "    <tr>\n",
       "      <th>31</th>\n",
       "      <td>Danilo Jorge</td>\n",
       "      <td>38.0</td>\n",
       "      <td>25/08/1982</td>\n",
       "      <td>Masculino</td>\n",
       "      <td>Virgem</td>\n",
       "      <td>Rondonópolis</td>\n",
       "      <td>MT</td>\n",
       "      <td>1,79</td>\n",
       "      <td>87</td>\n",
       "      <td>AB+</td>\n",
       "      <td>preto</td>\n",
       "    </tr>\n",
       "    <tr>\n",
       "      <th>36</th>\n",
       "      <td>Henry Elias</td>\n",
       "      <td>57.0</td>\n",
       "      <td>26/04/1963</td>\n",
       "      <td>Masculino</td>\n",
       "      <td>Touro</td>\n",
       "      <td>Várzea Grande</td>\n",
       "      <td>MT</td>\n",
       "      <td>1,83</td>\n",
       "      <td>103</td>\n",
       "      <td>AB+</td>\n",
       "      <td>vermelho</td>\n",
       "    </tr>\n",
       "    <tr>\n",
       "      <th>43</th>\n",
       "      <td>Osvaldo Augusto</td>\n",
       "      <td>41.0</td>\n",
       "      <td>15/04/1979</td>\n",
       "      <td>Masculino</td>\n",
       "      <td>Áries</td>\n",
       "      <td>Cuiabá</td>\n",
       "      <td>MT</td>\n",
       "      <td>1,79</td>\n",
       "      <td>107</td>\n",
       "      <td>A-</td>\n",
       "      <td>preto</td>\n",
       "    </tr>\n",
       "  </tbody>\n",
       "</table>\n",
       "</div>"
      ],
      "text/plain": [
       "                 nome  idade   data_nasc       sexo    signo         cidade  \\\n",
       "4       Cauã Henrique   50.0       09/03  Masculino   Peixes   Rondonópolis   \n",
       "15  Benício Guilherme   37.0  09/02/1983  Masculino  Aquário   Rondonópolis   \n",
       "31       Danilo Jorge   38.0  25/08/1982  Masculino   Virgem   Rondonópolis   \n",
       "36        Henry Elias   57.0  26/04/1963  Masculino    Touro  Várzea Grande   \n",
       "43    Osvaldo Augusto   41.0  15/04/1979  Masculino    Áries         Cuiabá   \n",
       "\n",
       "   estado altura  peso tipo_sanguineo       cor  \n",
       "4      MT   1,74    83             O-  vermelho  \n",
       "15     MT   1,63    95             O-   laranja  \n",
       "31     MT   1,79    87            AB+     preto  \n",
       "36     MT   1,83   103            AB+  vermelho  \n",
       "43     MT   1,79   107             A-     preto  "
      ]
     },
     "execution_count": 7,
     "metadata": {},
     "output_type": "execute_result"
    }
   ],
   "source": [
    "df_mt = df.query('estado == \"MT\"')\n",
    "df_mt.head()"
   ]
  },
  {
   "cell_type": "code",
   "execution_count": 8,
   "metadata": {},
   "outputs": [
    {
     "data": {
      "text/plain": [
       "44.6"
      ]
     },
     "execution_count": 8,
     "metadata": {},
     "output_type": "execute_result"
    }
   ],
   "source": [
    "df_mt['idade'].mean()"
   ]
  },
  {
   "cell_type": "markdown",
   "metadata": {},
   "source": [
    "    3) Quantas pessoas nasceram nos anos de 1968 a 1978 (incluindo 1968 e 1978)? "
   ]
  },
  {
   "cell_type": "code",
   "execution_count": 9,
   "metadata": {},
   "outputs": [
    {
     "data": {
      "text/html": [
       "<div>\n",
       "<style scoped>\n",
       "    .dataframe tbody tr th:only-of-type {\n",
       "        vertical-align: middle;\n",
       "    }\n",
       "\n",
       "    .dataframe tbody tr th {\n",
       "        vertical-align: top;\n",
       "    }\n",
       "\n",
       "    .dataframe thead th {\n",
       "        text-align: right;\n",
       "    }\n",
       "</style>\n",
       "<table border=\"1\" class=\"dataframe\">\n",
       "  <thead>\n",
       "    <tr style=\"text-align: right;\">\n",
       "      <th></th>\n",
       "      <th>nome</th>\n",
       "      <th>idade</th>\n",
       "      <th>data_nasc</th>\n",
       "      <th>sexo</th>\n",
       "      <th>signo</th>\n",
       "      <th>cidade</th>\n",
       "      <th>estado</th>\n",
       "      <th>altura</th>\n",
       "      <th>peso</th>\n",
       "      <th>tipo_sanguineo</th>\n",
       "      <th>cor</th>\n",
       "    </tr>\n",
       "  </thead>\n",
       "  <tbody>\n",
       "    <tr>\n",
       "      <th>4</th>\n",
       "      <td>Cauã Henrique</td>\n",
       "      <td>50.0</td>\n",
       "      <td>09/03</td>\n",
       "      <td>Masculino</td>\n",
       "      <td>Peixes</td>\n",
       "      <td>Rondonópolis</td>\n",
       "      <td>MT</td>\n",
       "      <td>1,74</td>\n",
       "      <td>83</td>\n",
       "      <td>O-</td>\n",
       "      <td>vermelho</td>\n",
       "    </tr>\n",
       "    <tr>\n",
       "      <th>14</th>\n",
       "      <td>Daniel Lucca</td>\n",
       "      <td>21.0</td>\n",
       "      <td>22/01</td>\n",
       "      <td>Masculino</td>\n",
       "      <td>Aquário</td>\n",
       "      <td>Planaltina</td>\n",
       "      <td>GO</td>\n",
       "      <td>1,84</td>\n",
       "      <td>105</td>\n",
       "      <td>A+</td>\n",
       "      <td>verde</td>\n",
       "    </tr>\n",
       "    <tr>\n",
       "      <th>18</th>\n",
       "      <td>Antonio Sérgio</td>\n",
       "      <td>49.0</td>\n",
       "      <td>15/04</td>\n",
       "      <td>Masculino</td>\n",
       "      <td>Áries</td>\n",
       "      <td>Carpina</td>\n",
       "      <td>PE</td>\n",
       "      <td>1,65</td>\n",
       "      <td>71</td>\n",
       "      <td>O+</td>\n",
       "      <td>azul</td>\n",
       "    </tr>\n",
       "    <tr>\n",
       "      <th>27</th>\n",
       "      <td>Rafael Ryan</td>\n",
       "      <td>70.0</td>\n",
       "      <td>10/01</td>\n",
       "      <td>Masculino</td>\n",
       "      <td>Capricórnio</td>\n",
       "      <td>Arapiraca</td>\n",
       "      <td>AL</td>\n",
       "      <td>1,98</td>\n",
       "      <td>85</td>\n",
       "      <td>O-</td>\n",
       "      <td>laranja</td>\n",
       "    </tr>\n",
       "    <tr>\n",
       "      <th>30</th>\n",
       "      <td>Martin Edson</td>\n",
       "      <td>35.0</td>\n",
       "      <td>15/01</td>\n",
       "      <td>Masculino</td>\n",
       "      <td>Capricórnio</td>\n",
       "      <td>Aracaju</td>\n",
       "      <td>SE</td>\n",
       "      <td>1,60</td>\n",
       "      <td>59</td>\n",
       "      <td>A-</td>\n",
       "      <td>laranja</td>\n",
       "    </tr>\n",
       "    <tr>\n",
       "      <th>34</th>\n",
       "      <td>Bruno Manuel</td>\n",
       "      <td>57.0</td>\n",
       "      <td>14/09</td>\n",
       "      <td>Masculino</td>\n",
       "      <td>Virgem</td>\n",
       "      <td>Jataí</td>\n",
       "      <td>GO</td>\n",
       "      <td>1,60</td>\n",
       "      <td>92</td>\n",
       "      <td>O+</td>\n",
       "      <td>azul</td>\n",
       "    </tr>\n",
       "    <tr>\n",
       "      <th>49</th>\n",
       "      <td>Erick Victor</td>\n",
       "      <td>52.0</td>\n",
       "      <td>08/10</td>\n",
       "      <td>Masculino</td>\n",
       "      <td>Libra</td>\n",
       "      <td>Salvador</td>\n",
       "      <td>BA</td>\n",
       "      <td>1,68</td>\n",
       "      <td>104</td>\n",
       "      <td>B-</td>\n",
       "      <td>laranja</td>\n",
       "    </tr>\n",
       "    <tr>\n",
       "      <th>57</th>\n",
       "      <td>Fábio Roberto</td>\n",
       "      <td>75.0</td>\n",
       "      <td>24/12</td>\n",
       "      <td>Masculino</td>\n",
       "      <td>Capricórnio</td>\n",
       "      <td>Londrina</td>\n",
       "      <td>PR</td>\n",
       "      <td>2,00</td>\n",
       "      <td>56</td>\n",
       "      <td>A+</td>\n",
       "      <td>amarelo</td>\n",
       "    </tr>\n",
       "  </tbody>\n",
       "</table>\n",
       "</div>"
      ],
      "text/plain": [
       "              nome  idade data_nasc       sexo        signo        cidade  \\\n",
       "4    Cauã Henrique   50.0     09/03  Masculino       Peixes  Rondonópolis   \n",
       "14    Daniel Lucca   21.0     22/01  Masculino      Aquário    Planaltina   \n",
       "18  Antonio Sérgio   49.0     15/04  Masculino        Áries       Carpina   \n",
       "27     Rafael Ryan   70.0     10/01  Masculino  Capricórnio     Arapiraca   \n",
       "30    Martin Edson   35.0     15/01  Masculino  Capricórnio       Aracaju   \n",
       "34    Bruno Manuel   57.0     14/09  Masculino       Virgem         Jataí   \n",
       "49    Erick Victor   52.0     08/10  Masculino        Libra      Salvador   \n",
       "57   Fábio Roberto   75.0     24/12  Masculino  Capricórnio      Londrina   \n",
       "\n",
       "   estado altura  peso tipo_sanguineo       cor  \n",
       "4      MT   1,74    83             O-  vermelho  \n",
       "14     GO   1,84   105             A+     verde  \n",
       "18     PE   1,65    71             O+      azul  \n",
       "27     AL   1,98    85             O-   laranja  \n",
       "30     SE   1,60    59             A-   laranja  \n",
       "34     GO   1,60    92             O+      azul  \n",
       "49     BA   1,68   104             B-   laranja  \n",
       "57     PR   2,00    56             A+   amarelo  "
      ]
     },
     "execution_count": 9,
     "metadata": {},
     "output_type": "execute_result"
    }
   ],
   "source": [
    "df_data_incompleta = df.query('data_nasc.str.len() != \"10\"')\n",
    "df_data_incompleta"
   ]
  },
  {
   "cell_type": "code",
   "execution_count": 10,
   "metadata": {},
   "outputs": [
    {
     "data": {
      "text/html": [
       "<div>\n",
       "<style scoped>\n",
       "    .dataframe tbody tr th:only-of-type {\n",
       "        vertical-align: middle;\n",
       "    }\n",
       "\n",
       "    .dataframe tbody tr th {\n",
       "        vertical-align: top;\n",
       "    }\n",
       "\n",
       "    .dataframe thead th {\n",
       "        text-align: right;\n",
       "    }\n",
       "</style>\n",
       "<table border=\"1\" class=\"dataframe\">\n",
       "  <thead>\n",
       "    <tr style=\"text-align: right;\">\n",
       "      <th></th>\n",
       "      <th>nome</th>\n",
       "      <th>idade</th>\n",
       "      <th>data_nasc</th>\n",
       "      <th>sexo</th>\n",
       "      <th>signo</th>\n",
       "      <th>cidade</th>\n",
       "      <th>estado</th>\n",
       "      <th>altura</th>\n",
       "      <th>peso</th>\n",
       "      <th>tipo_sanguineo</th>\n",
       "      <th>cor</th>\n",
       "    </tr>\n",
       "  </thead>\n",
       "  <tbody>\n",
       "    <tr>\n",
       "      <th>0</th>\n",
       "      <td>Silvana Hadassa</td>\n",
       "      <td>NaN</td>\n",
       "      <td>12/06/1964</td>\n",
       "      <td>Feminino</td>\n",
       "      <td>Gêmeos</td>\n",
       "      <td>Brasília</td>\n",
       "      <td>DF</td>\n",
       "      <td>1,67</td>\n",
       "      <td>50</td>\n",
       "      <td>A+</td>\n",
       "      <td>vermelho</td>\n",
       "    </tr>\n",
       "    <tr>\n",
       "      <th>1</th>\n",
       "      <td>Thales Kaique</td>\n",
       "      <td>27.0</td>\n",
       "      <td>10/12/1993</td>\n",
       "      <td>Masculino</td>\n",
       "      <td>Sagitário</td>\n",
       "      <td>Campo Grande</td>\n",
       "      <td>MS</td>\n",
       "      <td>1,63</td>\n",
       "      <td>110</td>\n",
       "      <td>B+</td>\n",
       "      <td>laranja</td>\n",
       "    </tr>\n",
       "    <tr>\n",
       "      <th>2</th>\n",
       "      <td>Henry Nathan</td>\n",
       "      <td>29.0</td>\n",
       "      <td>21/09/1991</td>\n",
       "      <td>Masculino</td>\n",
       "      <td>Virgem</td>\n",
       "      <td>Macapá</td>\n",
       "      <td>AP</td>\n",
       "      <td>1,86</td>\n",
       "      <td>106</td>\n",
       "      <td>AB-</td>\n",
       "      <td>verde</td>\n",
       "    </tr>\n",
       "    <tr>\n",
       "      <th>3</th>\n",
       "      <td>Lorenzo Vinicius</td>\n",
       "      <td>64.0</td>\n",
       "      <td>22/10/1956</td>\n",
       "      <td>Masculino</td>\n",
       "      <td>Libra</td>\n",
       "      <td>Contagem</td>\n",
       "      <td>MG</td>\n",
       "      <td>1,87</td>\n",
       "      <td>100</td>\n",
       "      <td>O+</td>\n",
       "      <td>vermelho</td>\n",
       "    </tr>\n",
       "    <tr>\n",
       "      <th>5</th>\n",
       "      <td>Francisco Thomas</td>\n",
       "      <td>19.0</td>\n",
       "      <td>12/04/2001</td>\n",
       "      <td>Masculino</td>\n",
       "      <td>Áries</td>\n",
       "      <td>Olinda</td>\n",
       "      <td>PE</td>\n",
       "      <td>1,91</td>\n",
       "      <td>64</td>\n",
       "      <td>AB-</td>\n",
       "      <td>preto</td>\n",
       "    </tr>\n",
       "  </tbody>\n",
       "</table>\n",
       "</div>"
      ],
      "text/plain": [
       "               nome  idade   data_nasc       sexo      signo        cidade  \\\n",
       "0   Silvana Hadassa    NaN  12/06/1964   Feminino     Gêmeos      Brasília   \n",
       "1     Thales Kaique   27.0  10/12/1993  Masculino  Sagitário  Campo Grande   \n",
       "2      Henry Nathan   29.0  21/09/1991  Masculino     Virgem        Macapá   \n",
       "3  Lorenzo Vinicius   64.0  22/10/1956  Masculino      Libra      Contagem   \n",
       "5  Francisco Thomas   19.0  12/04/2001  Masculino      Áries        Olinda   \n",
       "\n",
       "  estado altura  peso tipo_sanguineo       cor  \n",
       "0     DF   1,67    50             A+  vermelho  \n",
       "1     MS   1,63   110             B+   laranja  \n",
       "2     AP   1,86   106            AB-     verde  \n",
       "3     MG   1,87   100             O+  vermelho  \n",
       "5     PE   1,91    64            AB-     preto  "
      ]
     },
     "execution_count": 10,
     "metadata": {},
     "output_type": "execute_result"
    }
   ],
   "source": [
    "df_data_completa = df.query('data_nasc.str.len() == \"10\"')\n",
    "df_data_completa.head()"
   ]
  },
  {
   "cell_type": "code",
   "execution_count": 11,
   "metadata": {},
   "outputs": [],
   "source": [
    "df_data_completa['ano_nasc'] = pd.to_datetime(df_data_completa['data_nasc'], format='%d/%m/%Y').dt.year"
   ]
  },
  {
   "cell_type": "code",
   "execution_count": 12,
   "metadata": {},
   "outputs": [
    {
     "data": {
      "text/html": [
       "<div>\n",
       "<style scoped>\n",
       "    .dataframe tbody tr th:only-of-type {\n",
       "        vertical-align: middle;\n",
       "    }\n",
       "\n",
       "    .dataframe tbody tr th {\n",
       "        vertical-align: top;\n",
       "    }\n",
       "\n",
       "    .dataframe thead th {\n",
       "        text-align: right;\n",
       "    }\n",
       "</style>\n",
       "<table border=\"1\" class=\"dataframe\">\n",
       "  <thead>\n",
       "    <tr style=\"text-align: right;\">\n",
       "      <th></th>\n",
       "      <th>nome</th>\n",
       "      <th>idade</th>\n",
       "      <th>data_nasc</th>\n",
       "      <th>sexo</th>\n",
       "      <th>signo</th>\n",
       "      <th>cidade</th>\n",
       "      <th>estado</th>\n",
       "      <th>altura</th>\n",
       "      <th>peso</th>\n",
       "      <th>tipo_sanguineo</th>\n",
       "      <th>cor</th>\n",
       "      <th>ano_nasc</th>\n",
       "    </tr>\n",
       "  </thead>\n",
       "  <tbody>\n",
       "    <tr>\n",
       "      <th>8</th>\n",
       "      <td>Teresinha Jaqueline</td>\n",
       "      <td>NaN</td>\n",
       "      <td>20/10/1968</td>\n",
       "      <td>Feminino</td>\n",
       "      <td>Libra</td>\n",
       "      <td>Araguaína</td>\n",
       "      <td>TO</td>\n",
       "      <td>1,84</td>\n",
       "      <td>59</td>\n",
       "      <td>AB-</td>\n",
       "      <td>vermelho</td>\n",
       "      <td>1968</td>\n",
       "    </tr>\n",
       "    <tr>\n",
       "      <th>9</th>\n",
       "      <td>Manuel Luís</td>\n",
       "      <td>50.0</td>\n",
       "      <td>12/05/1970</td>\n",
       "      <td>Masculino</td>\n",
       "      <td>Touro</td>\n",
       "      <td>Manaus</td>\n",
       "      <td>AM</td>\n",
       "      <td>1,81</td>\n",
       "      <td>85</td>\n",
       "      <td>A-</td>\n",
       "      <td>roxo</td>\n",
       "      <td>1970</td>\n",
       "    </tr>\n",
       "    <tr>\n",
       "      <th>10</th>\n",
       "      <td>Jorge Nicolas</td>\n",
       "      <td>NaN</td>\n",
       "      <td>11/07/1968</td>\n",
       "      <td>Masculino</td>\n",
       "      <td>Câncer</td>\n",
       "      <td>Caruaru</td>\n",
       "      <td>PE</td>\n",
       "      <td>1,87</td>\n",
       "      <td>54</td>\n",
       "      <td>AB-</td>\n",
       "      <td>roxo</td>\n",
       "      <td>1968</td>\n",
       "    </tr>\n",
       "    <tr>\n",
       "      <th>13</th>\n",
       "      <td>Isabel Yasmin</td>\n",
       "      <td>50.0</td>\n",
       "      <td>22/06/1970</td>\n",
       "      <td>Feminino</td>\n",
       "      <td>Câncer</td>\n",
       "      <td>Manaus</td>\n",
       "      <td>AM</td>\n",
       "      <td>1,64</td>\n",
       "      <td>53</td>\n",
       "      <td>AB+</td>\n",
       "      <td>azul</td>\n",
       "      <td>1970</td>\n",
       "    </tr>\n",
       "    <tr>\n",
       "      <th>39</th>\n",
       "      <td>Caio Ricardo</td>\n",
       "      <td>NaN</td>\n",
       "      <td>07/09/1973</td>\n",
       "      <td>Masculino</td>\n",
       "      <td>Virgem</td>\n",
       "      <td>Boa Vista</td>\n",
       "      <td>RR</td>\n",
       "      <td>1,61</td>\n",
       "      <td>97</td>\n",
       "      <td>A-</td>\n",
       "      <td>roxo</td>\n",
       "      <td>1973</td>\n",
       "    </tr>\n",
       "  </tbody>\n",
       "</table>\n",
       "</div>"
      ],
      "text/plain": [
       "                   nome  idade   data_nasc       sexo   signo     cidade  \\\n",
       "8   Teresinha Jaqueline    NaN  20/10/1968   Feminino   Libra  Araguaína   \n",
       "9           Manuel Luís   50.0  12/05/1970  Masculino   Touro     Manaus   \n",
       "10        Jorge Nicolas    NaN  11/07/1968  Masculino  Câncer    Caruaru   \n",
       "13        Isabel Yasmin   50.0  22/06/1970   Feminino  Câncer     Manaus   \n",
       "39         Caio Ricardo    NaN  07/09/1973  Masculino  Virgem  Boa Vista   \n",
       "\n",
       "   estado altura  peso tipo_sanguineo       cor  ano_nasc  \n",
       "8      TO   1,84    59            AB-  vermelho      1968  \n",
       "9      AM   1,81    85             A-      roxo      1970  \n",
       "10     PE   1,87    54            AB-      roxo      1968  \n",
       "13     AM   1,64    53            AB+      azul      1970  \n",
       "39     RR   1,61    97             A-      roxo      1973  "
      ]
     },
     "execution_count": 12,
     "metadata": {},
     "output_type": "execute_result"
    }
   ],
   "source": [
    "df_68_78 = df_data_completa.query('ano_nasc >= 1968 & ano_nasc <= 1978')\n",
    "df_68_78.head()"
   ]
  },
  {
   "cell_type": "code",
   "execution_count": 13,
   "metadata": {},
   "outputs": [
    {
     "data": {
      "text/plain": [
       "11"
      ]
     },
     "execution_count": 13,
     "metadata": {},
     "output_type": "execute_result"
    }
   ],
   "source": [
    "df_68_78.shape[0]"
   ]
  },
  {
   "cell_type": "markdown",
   "metadata": {},
   "source": [
    "4) Ao executar o seguinte comando SQL no banco de dados criado, qual é o valor retornado?\n",
    "\n",
    "        select count(*) from tb_pessoa inner join\n",
    "        tb_tiposanguineo on tb_pessoa.id_tiposanguineo =\n",
    "        tb_tiposanguineo.id inner join tb_cidade on\n",
    "        tb_pessoa.id_cidade = tb_cidade.id inner join\n",
    "        tb_estado on tb_cidade.id_estado = tb_estado.id where\n",
    "        tb_tiposanguineo.tipo like \"AB-\" and (tb_estado.sigla\n",
    "        like \"AP\" or tb_estado.sigla like \"PE\")"
   ]
  },
  {
   "cell_type": "code",
   "execution_count": 14,
   "metadata": {},
   "outputs": [
    {
     "data": {
      "text/html": [
       "<div>\n",
       "<style scoped>\n",
       "    .dataframe tbody tr th:only-of-type {\n",
       "        vertical-align: middle;\n",
       "    }\n",
       "\n",
       "    .dataframe tbody tr th {\n",
       "        vertical-align: top;\n",
       "    }\n",
       "\n",
       "    .dataframe thead th {\n",
       "        text-align: right;\n",
       "    }\n",
       "</style>\n",
       "<table border=\"1\" class=\"dataframe\">\n",
       "  <thead>\n",
       "    <tr style=\"text-align: right;\">\n",
       "      <th></th>\n",
       "      <th>nome</th>\n",
       "      <th>idade</th>\n",
       "      <th>data_nasc</th>\n",
       "      <th>sexo</th>\n",
       "      <th>signo</th>\n",
       "      <th>cidade</th>\n",
       "      <th>estado</th>\n",
       "      <th>altura</th>\n",
       "      <th>peso</th>\n",
       "      <th>tipo_sanguineo</th>\n",
       "      <th>cor</th>\n",
       "    </tr>\n",
       "  </thead>\n",
       "  <tbody>\n",
       "    <tr>\n",
       "      <th>2</th>\n",
       "      <td>Henry Nathan</td>\n",
       "      <td>29.0</td>\n",
       "      <td>21/09/1991</td>\n",
       "      <td>Masculino</td>\n",
       "      <td>Virgem</td>\n",
       "      <td>Macapá</td>\n",
       "      <td>AP</td>\n",
       "      <td>1,86</td>\n",
       "      <td>106</td>\n",
       "      <td>AB-</td>\n",
       "      <td>verde</td>\n",
       "    </tr>\n",
       "    <tr>\n",
       "      <th>5</th>\n",
       "      <td>Francisco Thomas</td>\n",
       "      <td>19.0</td>\n",
       "      <td>12/04/2001</td>\n",
       "      <td>Masculino</td>\n",
       "      <td>Áries</td>\n",
       "      <td>Olinda</td>\n",
       "      <td>PE</td>\n",
       "      <td>1,91</td>\n",
       "      <td>64</td>\n",
       "      <td>AB-</td>\n",
       "      <td>preto</td>\n",
       "    </tr>\n",
       "    <tr>\n",
       "      <th>10</th>\n",
       "      <td>Jorge Nicolas</td>\n",
       "      <td>NaN</td>\n",
       "      <td>11/07/1968</td>\n",
       "      <td>Masculino</td>\n",
       "      <td>Câncer</td>\n",
       "      <td>Caruaru</td>\n",
       "      <td>PE</td>\n",
       "      <td>1,87</td>\n",
       "      <td>54</td>\n",
       "      <td>AB-</td>\n",
       "      <td>roxo</td>\n",
       "    </tr>\n",
       "    <tr>\n",
       "      <th>25</th>\n",
       "      <td>Levi Sérgio</td>\n",
       "      <td>NaN</td>\n",
       "      <td>21/08/1949</td>\n",
       "      <td>Masculino</td>\n",
       "      <td>Leão</td>\n",
       "      <td>Santana</td>\n",
       "      <td>AP</td>\n",
       "      <td>1,83</td>\n",
       "      <td>68</td>\n",
       "      <td>AB-</td>\n",
       "      <td>vermelho</td>\n",
       "    </tr>\n",
       "  </tbody>\n",
       "</table>\n",
       "</div>"
      ],
      "text/plain": [
       "                nome  idade   data_nasc       sexo   signo   cidade estado  \\\n",
       "2       Henry Nathan   29.0  21/09/1991  Masculino  Virgem   Macapá     AP   \n",
       "5   Francisco Thomas   19.0  12/04/2001  Masculino   Áries   Olinda     PE   \n",
       "10     Jorge Nicolas    NaN  11/07/1968  Masculino  Câncer  Caruaru     PE   \n",
       "25       Levi Sérgio    NaN  21/08/1949  Masculino    Leão  Santana     AP   \n",
       "\n",
       "   altura  peso tipo_sanguineo       cor  \n",
       "2    1,86   106            AB-     verde  \n",
       "5    1,91    64            AB-     preto  \n",
       "10   1,87    54            AB-      roxo  \n",
       "25   1,83    68            AB-  vermelho  "
      ]
     },
     "execution_count": 14,
     "metadata": {},
     "output_type": "execute_result"
    }
   ],
   "source": [
    "df_ab = df.query('tipo_sanguineo == \"AB-\" & (estado == \"AP\" | estado == \"PE\")')\n",
    "df_ab"
   ]
  },
  {
   "cell_type": "code",
   "execution_count": 15,
   "metadata": {},
   "outputs": [
    {
     "data": {
      "text/plain": [
       "4"
      ]
     },
     "execution_count": 15,
     "metadata": {},
     "output_type": "execute_result"
    }
   ],
   "source": [
    "df_ab.shape[0]"
   ]
  },
  {
   "cell_type": "markdown",
   "metadata": {},
   "source": [
    "    5) Qual o nome da pessoa mais velha na base de dados?"
   ]
  },
  {
   "cell_type": "code",
   "execution_count": 16,
   "metadata": {},
   "outputs": [
    {
     "data": {
      "text/plain": [
       "nome              Alice Bárbara\n",
       "idade                        78\n",
       "data_nasc            09/10/1942\n",
       "sexo                   Feminino\n",
       "signo                     Libra\n",
       "cidade                 Cianorte\n",
       "estado                       PR\n",
       "altura                     1,78\n",
       "peso                         80\n",
       "tipo_sanguineo              AB+\n",
       "cor                     laranja\n",
       "Name: 29, dtype: object"
      ]
     },
     "execution_count": 16,
     "metadata": {},
     "output_type": "execute_result"
    }
   ],
   "source": [
    "pessoa_mais_velha = df.sort_values(by='idade', ascending=False).iloc[0]\n",
    "pessoa_mais_velha"
   ]
  },
  {
   "cell_type": "code",
   "execution_count": 17,
   "metadata": {},
   "outputs": [
    {
     "data": {
      "text/plain": [
       "'Alice Bárbara'"
      ]
     },
     "execution_count": 17,
     "metadata": {},
     "output_type": "execute_result"
    }
   ],
   "source": [
    "pessoa_mais_velha['nome']"
   ]
  },
  {
   "cell_type": "markdown",
   "metadata": {},
   "source": [
    "R5: Alice Bárbara"
   ]
  },
  {
   "cell_type": "markdown",
   "metadata": {},
   "source": [
    "    6) Qual o nome da pessoa mais nova da base de dados? "
   ]
  },
  {
   "cell_type": "code",
   "execution_count": 18,
   "metadata": {},
   "outputs": [
    {
     "data": {
      "text/plain": [
       "nome              Francisco Thomas\n",
       "idade                           19\n",
       "data_nasc               12/04/2001\n",
       "sexo                     Masculino\n",
       "signo                        Áries\n",
       "cidade                      Olinda\n",
       "estado                          PE\n",
       "altura                        1,91\n",
       "peso                            64\n",
       "tipo_sanguineo                 AB-\n",
       "cor                          preto\n",
       "Name: 5, dtype: object"
      ]
     },
     "execution_count": 18,
     "metadata": {},
     "output_type": "execute_result"
    }
   ],
   "source": [
    "pessoa_mais_nova = df.sort_values(by='idade', ascending=True).iloc[0]\n",
    "pessoa_mais_nova"
   ]
  },
  {
   "cell_type": "code",
   "execution_count": 19,
   "metadata": {},
   "outputs": [
    {
     "data": {
      "text/plain": [
       "'Francisco Thomas'"
      ]
     },
     "execution_count": 19,
     "metadata": {},
     "output_type": "execute_result"
    }
   ],
   "source": [
    "pessoa_mais_nova['nome']"
   ]
  },
  {
   "cell_type": "markdown",
   "metadata": {},
   "source": [
    "R: Francisco Thomas"
   ]
  },
  {
   "cell_type": "markdown",
   "metadata": {},
   "source": [
    "### Desenvolvimento - Parte 2"
   ]
  },
  {
   "cell_type": "code",
   "execution_count": 20,
   "metadata": {},
   "outputs": [
    {
     "data": {
      "text/html": [
       "<div>\n",
       "<style scoped>\n",
       "    .dataframe tbody tr th:only-of-type {\n",
       "        vertical-align: middle;\n",
       "    }\n",
       "\n",
       "    .dataframe tbody tr th {\n",
       "        vertical-align: top;\n",
       "    }\n",
       "\n",
       "    .dataframe thead th {\n",
       "        text-align: right;\n",
       "    }\n",
       "</style>\n",
       "<table border=\"1\" class=\"dataframe\">\n",
       "  <thead>\n",
       "    <tr style=\"text-align: right;\">\n",
       "      <th></th>\n",
       "      <th>_id</th>\n",
       "      <th>Rank</th>\n",
       "      <th>Name</th>\n",
       "      <th>Platform</th>\n",
       "      <th>Year</th>\n",
       "      <th>Genre</th>\n",
       "      <th>Publisher</th>\n",
       "      <th>NA_Sales</th>\n",
       "      <th>EU_Sales</th>\n",
       "      <th>JP_Sales</th>\n",
       "      <th>Other_Sales</th>\n",
       "      <th>Global_Sales</th>\n",
       "    </tr>\n",
       "  </thead>\n",
       "  <tbody>\n",
       "    <tr>\n",
       "      <th>0</th>\n",
       "      <td>{'$oid': '5f7a16f90a65c63ff4970b8a'}</td>\n",
       "      <td>1</td>\n",
       "      <td>Wii Sports</td>\n",
       "      <td>Wii</td>\n",
       "      <td>2006.0</td>\n",
       "      <td>Sports</td>\n",
       "      <td>Nintendo</td>\n",
       "      <td>41.49</td>\n",
       "      <td>29.02</td>\n",
       "      <td>3.77</td>\n",
       "      <td>8.46</td>\n",
       "      <td>82.74</td>\n",
       "    </tr>\n",
       "    <tr>\n",
       "      <th>1</th>\n",
       "      <td>{'$oid': '5f7a16f90a65c63ff4970b8b'}</td>\n",
       "      <td>2</td>\n",
       "      <td>Super Mario Bros.</td>\n",
       "      <td>NES</td>\n",
       "      <td>1985.0</td>\n",
       "      <td>Platform</td>\n",
       "      <td>Nintendo</td>\n",
       "      <td>29.08</td>\n",
       "      <td>3.58</td>\n",
       "      <td>6.81</td>\n",
       "      <td>0.77</td>\n",
       "      <td>40.24</td>\n",
       "    </tr>\n",
       "    <tr>\n",
       "      <th>2</th>\n",
       "      <td>{'$oid': '5f7a16f90a65c63ff4970b8c'}</td>\n",
       "      <td>3</td>\n",
       "      <td>Mario Kart Wii</td>\n",
       "      <td>Wii</td>\n",
       "      <td>2008.0</td>\n",
       "      <td>Racing</td>\n",
       "      <td>Nintendo</td>\n",
       "      <td>15.85</td>\n",
       "      <td>12.88</td>\n",
       "      <td>3.79</td>\n",
       "      <td>3.31</td>\n",
       "      <td>35.82</td>\n",
       "    </tr>\n",
       "    <tr>\n",
       "      <th>3</th>\n",
       "      <td>{'$oid': '5f7a16f90a65c63ff4970b8d'}</td>\n",
       "      <td>4</td>\n",
       "      <td>Wii Sports Resort</td>\n",
       "      <td>Wii</td>\n",
       "      <td>2009.0</td>\n",
       "      <td>Sports</td>\n",
       "      <td>Nintendo</td>\n",
       "      <td>15.75</td>\n",
       "      <td>11.01</td>\n",
       "      <td>3.28</td>\n",
       "      <td>2.96</td>\n",
       "      <td>33.00</td>\n",
       "    </tr>\n",
       "    <tr>\n",
       "      <th>4</th>\n",
       "      <td>{'$oid': '5f7a16f90a65c63ff4970b8e'}</td>\n",
       "      <td>5</td>\n",
       "      <td>Pokemon Red/Pokemon Blue</td>\n",
       "      <td>GB</td>\n",
       "      <td>1996.0</td>\n",
       "      <td>Role-Playing</td>\n",
       "      <td>Nintendo</td>\n",
       "      <td>11.27</td>\n",
       "      <td>8.89</td>\n",
       "      <td>10.22</td>\n",
       "      <td>1.00</td>\n",
       "      <td>31.37</td>\n",
       "    </tr>\n",
       "  </tbody>\n",
       "</table>\n",
       "</div>"
      ],
      "text/plain": [
       "                                    _id  Rank                      Name  \\\n",
       "0  {'$oid': '5f7a16f90a65c63ff4970b8a'}     1                Wii Sports   \n",
       "1  {'$oid': '5f7a16f90a65c63ff4970b8b'}     2         Super Mario Bros.   \n",
       "2  {'$oid': '5f7a16f90a65c63ff4970b8c'}     3            Mario Kart Wii   \n",
       "3  {'$oid': '5f7a16f90a65c63ff4970b8d'}     4         Wii Sports Resort   \n",
       "4  {'$oid': '5f7a16f90a65c63ff4970b8e'}     5  Pokemon Red/Pokemon Blue   \n",
       "\n",
       "  Platform    Year         Genre Publisher  NA_Sales  EU_Sales  JP_Sales  \\\n",
       "0      Wii  2006.0        Sports  Nintendo     41.49     29.02      3.77   \n",
       "1      NES  1985.0      Platform  Nintendo     29.08      3.58      6.81   \n",
       "2      Wii  2008.0        Racing  Nintendo     15.85     12.88      3.79   \n",
       "3      Wii  2009.0        Sports  Nintendo     15.75     11.01      3.28   \n",
       "4       GB  1996.0  Role-Playing  Nintendo     11.27      8.89     10.22   \n",
       "\n",
       "   Other_Sales  Global_Sales  \n",
       "0         8.46         82.74  \n",
       "1         0.77         40.24  \n",
       "2         3.31         35.82  \n",
       "3         2.96         33.00  \n",
       "4         1.00         31.37  "
      ]
     },
     "execution_count": 20,
     "metadata": {},
     "output_type": "execute_result"
    }
   ],
   "source": [
    "json_file_dir = 'videogame_sales_mongo.json'\n",
    "df = pd.read_json(json_file_dir)\n",
    "df.head()"
   ]
  },
  {
   "cell_type": "markdown",
   "metadata": {},
   "source": [
    "    7) Qual jogo possui a maior venda global (“Global_Sales”) para a plataforma PS2? "
   ]
  },
  {
   "cell_type": "code",
   "execution_count": 21,
   "metadata": {},
   "outputs": [
    {
     "data": {
      "text/html": [
       "<div>\n",
       "<style scoped>\n",
       "    .dataframe tbody tr th:only-of-type {\n",
       "        vertical-align: middle;\n",
       "    }\n",
       "\n",
       "    .dataframe tbody tr th {\n",
       "        vertical-align: top;\n",
       "    }\n",
       "\n",
       "    .dataframe thead th {\n",
       "        text-align: right;\n",
       "    }\n",
       "</style>\n",
       "<table border=\"1\" class=\"dataframe\">\n",
       "  <thead>\n",
       "    <tr style=\"text-align: right;\">\n",
       "      <th></th>\n",
       "      <th>_id</th>\n",
       "      <th>Rank</th>\n",
       "      <th>Name</th>\n",
       "      <th>Platform</th>\n",
       "      <th>Year</th>\n",
       "      <th>Genre</th>\n",
       "      <th>Publisher</th>\n",
       "      <th>NA_Sales</th>\n",
       "      <th>EU_Sales</th>\n",
       "      <th>JP_Sales</th>\n",
       "      <th>Other_Sales</th>\n",
       "      <th>Global_Sales</th>\n",
       "    </tr>\n",
       "  </thead>\n",
       "  <tbody>\n",
       "    <tr>\n",
       "      <th>6216</th>\n",
       "      <td>{'$oid': '5f7a16fc0a65c63ff49723d2'}</td>\n",
       "      <td>6218</td>\n",
       "      <td>Mister Mosquito</td>\n",
       "      <td>PS2</td>\n",
       "      <td>2001.0</td>\n",
       "      <td>Shooter</td>\n",
       "      <td>Eidos Interactive</td>\n",
       "      <td>0.05</td>\n",
       "      <td>0.04</td>\n",
       "      <td>0.17</td>\n",
       "      <td>0.01</td>\n",
       "      <td>0.28</td>\n",
       "    </tr>\n",
       "  </tbody>\n",
       "</table>\n",
       "</div>"
      ],
      "text/plain": [
       "                                       _id  Rank             Name Platform  \\\n",
       "6216  {'$oid': '5f7a16fc0a65c63ff49723d2'}  6218  Mister Mosquito      PS2   \n",
       "\n",
       "        Year    Genre          Publisher  NA_Sales  EU_Sales  JP_Sales  \\\n",
       "6216  2001.0  Shooter  Eidos Interactive      0.05      0.04      0.17   \n",
       "\n",
       "      Other_Sales  Global_Sales  \n",
       "6216         0.01          0.28  "
      ]
     },
     "execution_count": 21,
     "metadata": {},
     "output_type": "execute_result"
    }
   ],
   "source": [
    "df_ps2 = df.query('Platform == \"PS2\"')\n",
    "df_ps2.sample()"
   ]
  },
  {
   "cell_type": "code",
   "execution_count": 22,
   "metadata": {},
   "outputs": [
    {
     "data": {
      "text/html": [
       "<div>\n",
       "<style scoped>\n",
       "    .dataframe tbody tr th:only-of-type {\n",
       "        vertical-align: middle;\n",
       "    }\n",
       "\n",
       "    .dataframe tbody tr th {\n",
       "        vertical-align: top;\n",
       "    }\n",
       "\n",
       "    .dataframe thead th {\n",
       "        text-align: right;\n",
       "    }\n",
       "</style>\n",
       "<table border=\"1\" class=\"dataframe\">\n",
       "  <thead>\n",
       "    <tr style=\"text-align: right;\">\n",
       "      <th></th>\n",
       "      <th>_id</th>\n",
       "      <th>Rank</th>\n",
       "      <th>Name</th>\n",
       "      <th>Platform</th>\n",
       "      <th>Year</th>\n",
       "      <th>Genre</th>\n",
       "      <th>Publisher</th>\n",
       "      <th>NA_Sales</th>\n",
       "      <th>EU_Sales</th>\n",
       "      <th>JP_Sales</th>\n",
       "      <th>Other_Sales</th>\n",
       "      <th>Global_Sales</th>\n",
       "    </tr>\n",
       "  </thead>\n",
       "  <tbody>\n",
       "    <tr>\n",
       "      <th>17</th>\n",
       "      <td>{'$oid': '5f7a16f90a65c63ff4970b9b'}</td>\n",
       "      <td>18</td>\n",
       "      <td>Grand Theft Auto: San Andreas</td>\n",
       "      <td>PS2</td>\n",
       "      <td>2004.0</td>\n",
       "      <td>Action</td>\n",
       "      <td>Take-Two Interactive</td>\n",
       "      <td>9.43</td>\n",
       "      <td>0.4</td>\n",
       "      <td>0.41</td>\n",
       "      <td>10.57</td>\n",
       "      <td>20.81</td>\n",
       "    </tr>\n",
       "  </tbody>\n",
       "</table>\n",
       "</div>"
      ],
      "text/plain": [
       "                                     _id  Rank                           Name  \\\n",
       "17  {'$oid': '5f7a16f90a65c63ff4970b9b'}    18  Grand Theft Auto: San Andreas   \n",
       "\n",
       "   Platform    Year   Genre             Publisher  NA_Sales  EU_Sales  \\\n",
       "17      PS2  2004.0  Action  Take-Two Interactive      9.43       0.4   \n",
       "\n",
       "    JP_Sales  Other_Sales  Global_Sales  \n",
       "17      0.41        10.57         20.81  "
      ]
     },
     "execution_count": 22,
     "metadata": {},
     "output_type": "execute_result"
    }
   ],
   "source": [
    "df_ps2.sort_values(by='Global_Sales', ascending=False).head(1)"
   ]
  },
  {
   "cell_type": "markdown",
   "metadata": {},
   "source": [
    "R: Grand Theft Auto: San Andreas"
   ]
  },
  {
   "cell_type": "markdown",
   "metadata": {},
   "source": [
    "    8) Qual a posição no Rank global (“Rank”) está o segundo jogo mais vendido na Europa? Ordenar pelo atributo \"EU_Sales\"."
   ]
  },
  {
   "cell_type": "code",
   "execution_count": 23,
   "metadata": {},
   "outputs": [
    {
     "data": {
      "text/html": [
       "<div>\n",
       "<style scoped>\n",
       "    .dataframe tbody tr th:only-of-type {\n",
       "        vertical-align: middle;\n",
       "    }\n",
       "\n",
       "    .dataframe tbody tr th {\n",
       "        vertical-align: top;\n",
       "    }\n",
       "\n",
       "    .dataframe thead th {\n",
       "        text-align: right;\n",
       "    }\n",
       "</style>\n",
       "<table border=\"1\" class=\"dataframe\">\n",
       "  <thead>\n",
       "    <tr style=\"text-align: right;\">\n",
       "      <th></th>\n",
       "      <th>_id</th>\n",
       "      <th>Rank</th>\n",
       "      <th>Name</th>\n",
       "      <th>Platform</th>\n",
       "      <th>Year</th>\n",
       "      <th>Genre</th>\n",
       "      <th>Publisher</th>\n",
       "      <th>NA_Sales</th>\n",
       "      <th>EU_Sales</th>\n",
       "      <th>JP_Sales</th>\n",
       "      <th>Other_Sales</th>\n",
       "      <th>Global_Sales</th>\n",
       "    </tr>\n",
       "  </thead>\n",
       "  <tbody>\n",
       "    <tr>\n",
       "      <th>0</th>\n",
       "      <td>{'$oid': '5f7a16f90a65c63ff4970b8a'}</td>\n",
       "      <td>1</td>\n",
       "      <td>Wii Sports</td>\n",
       "      <td>Wii</td>\n",
       "      <td>2006.0</td>\n",
       "      <td>Sports</td>\n",
       "      <td>Nintendo</td>\n",
       "      <td>41.49</td>\n",
       "      <td>29.02</td>\n",
       "      <td>3.77</td>\n",
       "      <td>8.46</td>\n",
       "      <td>82.74</td>\n",
       "    </tr>\n",
       "    <tr>\n",
       "      <th>2</th>\n",
       "      <td>{'$oid': '5f7a16f90a65c63ff4970b8c'}</td>\n",
       "      <td>3</td>\n",
       "      <td>Mario Kart Wii</td>\n",
       "      <td>Wii</td>\n",
       "      <td>2008.0</td>\n",
       "      <td>Racing</td>\n",
       "      <td>Nintendo</td>\n",
       "      <td>15.85</td>\n",
       "      <td>12.88</td>\n",
       "      <td>3.79</td>\n",
       "      <td>3.31</td>\n",
       "      <td>35.82</td>\n",
       "    </tr>\n",
       "  </tbody>\n",
       "</table>\n",
       "</div>"
      ],
      "text/plain": [
       "                                    _id  Rank            Name Platform  \\\n",
       "0  {'$oid': '5f7a16f90a65c63ff4970b8a'}     1      Wii Sports      Wii   \n",
       "2  {'$oid': '5f7a16f90a65c63ff4970b8c'}     3  Mario Kart Wii      Wii   \n",
       "\n",
       "     Year   Genre Publisher  NA_Sales  EU_Sales  JP_Sales  Other_Sales  \\\n",
       "0  2006.0  Sports  Nintendo     41.49     29.02      3.77         8.46   \n",
       "2  2008.0  Racing  Nintendo     15.85     12.88      3.79         3.31   \n",
       "\n",
       "   Global_Sales  \n",
       "0         82.74  \n",
       "2         35.82  "
      ]
     },
     "execution_count": 23,
     "metadata": {},
     "output_type": "execute_result"
    }
   ],
   "source": [
    "df.sort_values(by='EU_Sales', ascending=False).head(2)"
   ]
  },
  {
   "cell_type": "code",
   "execution_count": 24,
   "metadata": {},
   "outputs": [
    {
     "data": {
      "text/plain": [
       "_id             {'$oid': '5f7a16f90a65c63ff4970b8c'}\n",
       "Rank                                               3\n",
       "Name                                  Mario Kart Wii\n",
       "Platform                                         Wii\n",
       "Year                                            2008\n",
       "Genre                                         Racing\n",
       "Publisher                                   Nintendo\n",
       "NA_Sales                                       15.85\n",
       "EU_Sales                                       12.88\n",
       "JP_Sales                                        3.79\n",
       "Other_Sales                                     3.31\n",
       "Global_Sales                                   35.82\n",
       "Name: 2, dtype: object"
      ]
     },
     "execution_count": 24,
     "metadata": {},
     "output_type": "execute_result"
    }
   ],
   "source": [
    "df.sort_values(by='EU_Sales', ascending=False).iloc[1]"
   ]
  },
  {
   "cell_type": "markdown",
   "metadata": {},
   "source": [
    "### Questão 9 \n",
    "    \n",
    "    9) Qual o nome do jogo que possui a menor venda global (“Global_Sales”) no ano de 2010? "
   ]
  },
  {
   "cell_type": "code",
   "execution_count": 36,
   "metadata": {},
   "outputs": [],
   "source": [
    "query9 = ' Name == \"Wand of Fortune Portable\" '\n",
    "query9 = query9 + '| Name == \"Sakura Sakura: Haru Urara\" '\n",
    "query9 = query9 + '| Name == \"Sora no Otoshimono: DokiDoki Summer Vacation\"'\n",
    "query9 = query9 + '| Name == \"Wand of Fortune: Mirai e no Prologue Portable\"'"
   ]
  },
  {
   "cell_type": "code",
   "execution_count": 37,
   "metadata": {},
   "outputs": [
    {
     "data": {
      "text/html": [
       "<div>\n",
       "<style scoped>\n",
       "    .dataframe tbody tr th:only-of-type {\n",
       "        vertical-align: middle;\n",
       "    }\n",
       "\n",
       "    .dataframe tbody tr th {\n",
       "        vertical-align: top;\n",
       "    }\n",
       "\n",
       "    .dataframe thead th {\n",
       "        text-align: right;\n",
       "    }\n",
       "</style>\n",
       "<table border=\"1\" class=\"dataframe\">\n",
       "  <thead>\n",
       "    <tr style=\"text-align: right;\">\n",
       "      <th></th>\n",
       "      <th>_id</th>\n",
       "      <th>Rank</th>\n",
       "      <th>Name</th>\n",
       "      <th>Platform</th>\n",
       "      <th>Year</th>\n",
       "      <th>Genre</th>\n",
       "      <th>Publisher</th>\n",
       "      <th>NA_Sales</th>\n",
       "      <th>EU_Sales</th>\n",
       "      <th>JP_Sales</th>\n",
       "      <th>Other_Sales</th>\n",
       "      <th>Global_Sales</th>\n",
       "    </tr>\n",
       "  </thead>\n",
       "  <tbody>\n",
       "    <tr>\n",
       "      <th>15986</th>\n",
       "      <td>{'$oid': '5f7a17000a65c63ff49749fc'}</td>\n",
       "      <td>15989</td>\n",
       "      <td>Sora no Otoshimono: DokiDoki Summer Vacation</td>\n",
       "      <td>PSP</td>\n",
       "      <td>2010.0</td>\n",
       "      <td>Adventure</td>\n",
       "      <td>Kadokawa Shoten</td>\n",
       "      <td>0.0</td>\n",
       "      <td>0.0</td>\n",
       "      <td>0.01</td>\n",
       "      <td>0.0</td>\n",
       "      <td>0.01</td>\n",
       "    </tr>\n",
       "    <tr>\n",
       "      <th>16004</th>\n",
       "      <td>{'$oid': '5f7a17010a65c63ff4974a0e'}</td>\n",
       "      <td>16007</td>\n",
       "      <td>Wand of Fortune: Mirai e no Prologue Portable</td>\n",
       "      <td>PSP</td>\n",
       "      <td>2010.0</td>\n",
       "      <td>Adventure</td>\n",
       "      <td>Idea Factory</td>\n",
       "      <td>0.0</td>\n",
       "      <td>0.0</td>\n",
       "      <td>0.01</td>\n",
       "      <td>0.0</td>\n",
       "      <td>0.01</td>\n",
       "    </tr>\n",
       "    <tr>\n",
       "      <th>16021</th>\n",
       "      <td>{'$oid': '5f7a17010a65c63ff4974a1f'}</td>\n",
       "      <td>16024</td>\n",
       "      <td>Wand of Fortune Portable</td>\n",
       "      <td>PSP</td>\n",
       "      <td>2010.0</td>\n",
       "      <td>Adventure</td>\n",
       "      <td>Idea Factory</td>\n",
       "      <td>0.0</td>\n",
       "      <td>0.0</td>\n",
       "      <td>0.01</td>\n",
       "      <td>0.0</td>\n",
       "      <td>0.01</td>\n",
       "    </tr>\n",
       "    <tr>\n",
       "      <th>16082</th>\n",
       "      <td>{'$oid': '5f7a17010a65c63ff4974a5c'}</td>\n",
       "      <td>16085</td>\n",
       "      <td>Sakura Sakura: Haru Urara</td>\n",
       "      <td>PSP</td>\n",
       "      <td>2010.0</td>\n",
       "      <td>Adventure</td>\n",
       "      <td>GN Software</td>\n",
       "      <td>0.0</td>\n",
       "      <td>0.0</td>\n",
       "      <td>0.01</td>\n",
       "      <td>0.0</td>\n",
       "      <td>0.01</td>\n",
       "    </tr>\n",
       "  </tbody>\n",
       "</table>\n",
       "</div>"
      ],
      "text/plain": [
       "                                        _id   Rank  \\\n",
       "15986  {'$oid': '5f7a17000a65c63ff49749fc'}  15989   \n",
       "16004  {'$oid': '5f7a17010a65c63ff4974a0e'}  16007   \n",
       "16021  {'$oid': '5f7a17010a65c63ff4974a1f'}  16024   \n",
       "16082  {'$oid': '5f7a17010a65c63ff4974a5c'}  16085   \n",
       "\n",
       "                                                Name Platform    Year  \\\n",
       "15986   Sora no Otoshimono: DokiDoki Summer Vacation      PSP  2010.0   \n",
       "16004  Wand of Fortune: Mirai e no Prologue Portable      PSP  2010.0   \n",
       "16021                       Wand of Fortune Portable      PSP  2010.0   \n",
       "16082                      Sakura Sakura: Haru Urara      PSP  2010.0   \n",
       "\n",
       "           Genre        Publisher  NA_Sales  EU_Sales  JP_Sales  Other_Sales  \\\n",
       "15986  Adventure  Kadokawa Shoten       0.0       0.0      0.01          0.0   \n",
       "16004  Adventure     Idea Factory       0.0       0.0      0.01          0.0   \n",
       "16021  Adventure     Idea Factory       0.0       0.0      0.01          0.0   \n",
       "16082  Adventure      GN Software       0.0       0.0      0.01          0.0   \n",
       "\n",
       "       Global_Sales  \n",
       "15986          0.01  \n",
       "16004          0.01  \n",
       "16021          0.01  \n",
       "16082          0.01  "
      ]
     },
     "execution_count": 37,
     "metadata": {},
     "output_type": "execute_result"
    }
   ],
   "source": [
    "df_gm = df.query(query9)\n",
    "df_gm"
   ]
  },
  {
   "cell_type": "markdown",
   "metadata": {},
   "source": [
    "Alternativa"
   ]
  },
  {
   "cell_type": "code",
   "execution_count": 27,
   "metadata": {},
   "outputs": [
    {
     "data": {
      "text/html": [
       "<div>\n",
       "<style scoped>\n",
       "    .dataframe tbody tr th:only-of-type {\n",
       "        vertical-align: middle;\n",
       "    }\n",
       "\n",
       "    .dataframe tbody tr th {\n",
       "        vertical-align: top;\n",
       "    }\n",
       "\n",
       "    .dataframe thead th {\n",
       "        text-align: right;\n",
       "    }\n",
       "</style>\n",
       "<table border=\"1\" class=\"dataframe\">\n",
       "  <thead>\n",
       "    <tr style=\"text-align: right;\">\n",
       "      <th></th>\n",
       "      <th>_id</th>\n",
       "      <th>Rank</th>\n",
       "      <th>Name</th>\n",
       "      <th>Platform</th>\n",
       "      <th>Year</th>\n",
       "      <th>Genre</th>\n",
       "      <th>Publisher</th>\n",
       "      <th>NA_Sales</th>\n",
       "      <th>EU_Sales</th>\n",
       "      <th>JP_Sales</th>\n",
       "      <th>Other_Sales</th>\n",
       "      <th>Global_Sales</th>\n",
       "    </tr>\n",
       "  </thead>\n",
       "  <tbody>\n",
       "    <tr>\n",
       "      <th>9781</th>\n",
       "      <td>{'$oid': '5f7a16fd0a65c63ff49731bf'}</td>\n",
       "      <td>9783</td>\n",
       "      <td>The God of War Trilogy</td>\n",
       "      <td>PS3</td>\n",
       "      <td>2010.0</td>\n",
       "      <td>Action</td>\n",
       "      <td>Sony Computer Entertainment</td>\n",
       "      <td>0.0</td>\n",
       "      <td>0.07</td>\n",
       "      <td>0.03</td>\n",
       "      <td>0.02</td>\n",
       "      <td>0.12</td>\n",
       "    </tr>\n",
       "  </tbody>\n",
       "</table>\n",
       "</div>"
      ],
      "text/plain": [
       "                                       _id  Rank                    Name  \\\n",
       "9781  {'$oid': '5f7a16fd0a65c63ff49731bf'}  9783  The God of War Trilogy   \n",
       "\n",
       "     Platform    Year   Genre                    Publisher  NA_Sales  \\\n",
       "9781      PS3  2010.0  Action  Sony Computer Entertainment       0.0   \n",
       "\n",
       "      EU_Sales  JP_Sales  Other_Sales  Global_Sales  \n",
       "9781      0.07      0.03         0.02          0.12  "
      ]
     },
     "execution_count": 27,
     "metadata": {},
     "output_type": "execute_result"
    }
   ],
   "source": [
    "df_2010 = df.query('Year == 2010.0')\n",
    "df_2010.sample()"
   ]
  },
  {
   "cell_type": "code",
   "execution_count": 28,
   "metadata": {},
   "outputs": [
    {
     "data": {
      "text/plain": [
       "_id             {'$oid': '5f7a17010a65c63ff4974c5e'}\n",
       "Rank                                           16599\n",
       "Name                                      Know How 2\n",
       "Platform                                          DS\n",
       "Year                                            2010\n",
       "Genre                                         Puzzle\n",
       "Publisher                                   7G//AMES\n",
       "NA_Sales                                           0\n",
       "EU_Sales                                        0.01\n",
       "JP_Sales                                           0\n",
       "Other_Sales                                        0\n",
       "Global_Sales                                    0.01\n",
       "Name: 16596, dtype: object"
      ]
     },
     "execution_count": 28,
     "metadata": {},
     "output_type": "execute_result"
    }
   ],
   "source": [
    "df_2010.sort_values(by='Global_Sales', ascending=True).iloc[0]"
   ]
  },
  {
   "cell_type": "markdown",
   "metadata": {},
   "source": [
    "    10) Qual a plataforma (“Platform”) do jogo mais vendido considerando as vendas globais (\"Global_Sales \") no ano de 2008? "
   ]
  },
  {
   "cell_type": "code",
   "execution_count": 29,
   "metadata": {},
   "outputs": [
    {
     "data": {
      "text/html": [
       "<div>\n",
       "<style scoped>\n",
       "    .dataframe tbody tr th:only-of-type {\n",
       "        vertical-align: middle;\n",
       "    }\n",
       "\n",
       "    .dataframe tbody tr th {\n",
       "        vertical-align: top;\n",
       "    }\n",
       "\n",
       "    .dataframe thead th {\n",
       "        text-align: right;\n",
       "    }\n",
       "</style>\n",
       "<table border=\"1\" class=\"dataframe\">\n",
       "  <thead>\n",
       "    <tr style=\"text-align: right;\">\n",
       "      <th></th>\n",
       "      <th>_id</th>\n",
       "      <th>Rank</th>\n",
       "      <th>Name</th>\n",
       "      <th>Platform</th>\n",
       "      <th>Year</th>\n",
       "      <th>Genre</th>\n",
       "      <th>Publisher</th>\n",
       "      <th>NA_Sales</th>\n",
       "      <th>EU_Sales</th>\n",
       "      <th>JP_Sales</th>\n",
       "      <th>Other_Sales</th>\n",
       "      <th>Global_Sales</th>\n",
       "    </tr>\n",
       "  </thead>\n",
       "  <tbody>\n",
       "    <tr>\n",
       "      <th>2</th>\n",
       "      <td>{'$oid': '5f7a16f90a65c63ff4970b8c'}</td>\n",
       "      <td>3</td>\n",
       "      <td>Mario Kart Wii</td>\n",
       "      <td>Wii</td>\n",
       "      <td>2008.0</td>\n",
       "      <td>Racing</td>\n",
       "      <td>Nintendo</td>\n",
       "      <td>15.85</td>\n",
       "      <td>12.88</td>\n",
       "      <td>3.79</td>\n",
       "      <td>3.31</td>\n",
       "      <td>35.82</td>\n",
       "    </tr>\n",
       "    <tr>\n",
       "      <th>39</th>\n",
       "      <td>{'$oid': '5f7a16f90a65c63ff4970bb1'}</td>\n",
       "      <td>40</td>\n",
       "      <td>Super Smash Bros. Brawl</td>\n",
       "      <td>Wii</td>\n",
       "      <td>2008.0</td>\n",
       "      <td>Fighting</td>\n",
       "      <td>Nintendo</td>\n",
       "      <td>6.75</td>\n",
       "      <td>2.61</td>\n",
       "      <td>2.66</td>\n",
       "      <td>1.02</td>\n",
       "      <td>13.04</td>\n",
       "    </tr>\n",
       "    <tr>\n",
       "      <th>51</th>\n",
       "      <td>{'$oid': '5f7a16f90a65c63ff4970bbd'}</td>\n",
       "      <td>52</td>\n",
       "      <td>Grand Theft Auto IV</td>\n",
       "      <td>X360</td>\n",
       "      <td>2008.0</td>\n",
       "      <td>Action</td>\n",
       "      <td>Take-Two Interactive</td>\n",
       "      <td>6.76</td>\n",
       "      <td>3.10</td>\n",
       "      <td>0.14</td>\n",
       "      <td>1.03</td>\n",
       "      <td>11.02</td>\n",
       "    </tr>\n",
       "    <tr>\n",
       "      <th>56</th>\n",
       "      <td>{'$oid': '5f7a16f90a65c63ff4970bc2'}</td>\n",
       "      <td>57</td>\n",
       "      <td>Grand Theft Auto IV</td>\n",
       "      <td>PS3</td>\n",
       "      <td>2008.0</td>\n",
       "      <td>Action</td>\n",
       "      <td>Take-Two Interactive</td>\n",
       "      <td>4.76</td>\n",
       "      <td>3.76</td>\n",
       "      <td>0.44</td>\n",
       "      <td>1.62</td>\n",
       "      <td>10.57</td>\n",
       "    </tr>\n",
       "    <tr>\n",
       "      <th>88</th>\n",
       "      <td>{'$oid': '5f7a16f90a65c63ff4970be2'}</td>\n",
       "      <td>89</td>\n",
       "      <td>Pokémon Platinum Version</td>\n",
       "      <td>DS</td>\n",
       "      <td>2008.0</td>\n",
       "      <td>Role-Playing</td>\n",
       "      <td>Nintendo</td>\n",
       "      <td>2.82</td>\n",
       "      <td>1.78</td>\n",
       "      <td>2.69</td>\n",
       "      <td>0.55</td>\n",
       "      <td>7.84</td>\n",
       "    </tr>\n",
       "  </tbody>\n",
       "</table>\n",
       "</div>"
      ],
      "text/plain": [
       "                                     _id  Rank                      Name  \\\n",
       "2   {'$oid': '5f7a16f90a65c63ff4970b8c'}     3            Mario Kart Wii   \n",
       "39  {'$oid': '5f7a16f90a65c63ff4970bb1'}    40   Super Smash Bros. Brawl   \n",
       "51  {'$oid': '5f7a16f90a65c63ff4970bbd'}    52       Grand Theft Auto IV   \n",
       "56  {'$oid': '5f7a16f90a65c63ff4970bc2'}    57       Grand Theft Auto IV   \n",
       "88  {'$oid': '5f7a16f90a65c63ff4970be2'}    89  Pokémon Platinum Version   \n",
       "\n",
       "   Platform    Year         Genre             Publisher  NA_Sales  EU_Sales  \\\n",
       "2       Wii  2008.0        Racing              Nintendo     15.85     12.88   \n",
       "39      Wii  2008.0      Fighting              Nintendo      6.75      2.61   \n",
       "51     X360  2008.0        Action  Take-Two Interactive      6.76      3.10   \n",
       "56      PS3  2008.0        Action  Take-Two Interactive      4.76      3.76   \n",
       "88       DS  2008.0  Role-Playing              Nintendo      2.82      1.78   \n",
       "\n",
       "    JP_Sales  Other_Sales  Global_Sales  \n",
       "2       3.79         3.31         35.82  \n",
       "39      2.66         1.02         13.04  \n",
       "51      0.14         1.03         11.02  \n",
       "56      0.44         1.62         10.57  \n",
       "88      2.69         0.55          7.84  "
      ]
     },
     "execution_count": 29,
     "metadata": {},
     "output_type": "execute_result"
    }
   ],
   "source": [
    "df_2008 = df.query('Year == 2008.0')\n",
    "df_2008.head()"
   ]
  },
  {
   "cell_type": "code",
   "execution_count": 38,
   "metadata": {
    "scrolled": true
   },
   "outputs": [
    {
     "data": {
      "text/html": [
       "<div>\n",
       "<style scoped>\n",
       "    .dataframe tbody tr th:only-of-type {\n",
       "        vertical-align: middle;\n",
       "    }\n",
       "\n",
       "    .dataframe tbody tr th {\n",
       "        vertical-align: top;\n",
       "    }\n",
       "\n",
       "    .dataframe thead th {\n",
       "        text-align: right;\n",
       "    }\n",
       "</style>\n",
       "<table border=\"1\" class=\"dataframe\">\n",
       "  <thead>\n",
       "    <tr style=\"text-align: right;\">\n",
       "      <th></th>\n",
       "      <th>_id</th>\n",
       "      <th>Rank</th>\n",
       "      <th>Name</th>\n",
       "      <th>Platform</th>\n",
       "      <th>Year</th>\n",
       "      <th>Genre</th>\n",
       "      <th>Publisher</th>\n",
       "      <th>NA_Sales</th>\n",
       "      <th>EU_Sales</th>\n",
       "      <th>JP_Sales</th>\n",
       "      <th>Other_Sales</th>\n",
       "      <th>Global_Sales</th>\n",
       "    </tr>\n",
       "  </thead>\n",
       "  <tbody>\n",
       "    <tr>\n",
       "      <th>2</th>\n",
       "      <td>{'$oid': '5f7a16f90a65c63ff4970b8c'}</td>\n",
       "      <td>3</td>\n",
       "      <td>Mario Kart Wii</td>\n",
       "      <td>Wii</td>\n",
       "      <td>2008.0</td>\n",
       "      <td>Racing</td>\n",
       "      <td>Nintendo</td>\n",
       "      <td>15.85</td>\n",
       "      <td>12.88</td>\n",
       "      <td>3.79</td>\n",
       "      <td>3.31</td>\n",
       "      <td>35.82</td>\n",
       "    </tr>\n",
       "  </tbody>\n",
       "</table>\n",
       "</div>"
      ],
      "text/plain": [
       "                                    _id  Rank            Name Platform  \\\n",
       "2  {'$oid': '5f7a16f90a65c63ff4970b8c'}     3  Mario Kart Wii      Wii   \n",
       "\n",
       "     Year   Genre Publisher  NA_Sales  EU_Sales  JP_Sales  Other_Sales  \\\n",
       "2  2008.0  Racing  Nintendo     15.85     12.88      3.79         3.31   \n",
       "\n",
       "   Global_Sales  \n",
       "2         35.82  "
      ]
     },
     "execution_count": 38,
     "metadata": {},
     "output_type": "execute_result"
    }
   ],
   "source": [
    "df_2008.sort_values(by='Global_Sales', ascending=False).head(1)"
   ]
  },
  {
   "cell_type": "code",
   "execution_count": 39,
   "metadata": {},
   "outputs": [
    {
     "data": {
      "text/plain": [
       "_id             {'$oid': '5f7a16f90a65c63ff4970b8c'}\n",
       "Rank                                               3\n",
       "Name                                  Mario Kart Wii\n",
       "Platform                                         Wii\n",
       "Year                                            2008\n",
       "Genre                                         Racing\n",
       "Publisher                                   Nintendo\n",
       "NA_Sales                                       15.85\n",
       "EU_Sales                                       12.88\n",
       "JP_Sales                                        3.79\n",
       "Other_Sales                                     3.31\n",
       "Global_Sales                                   35.82\n",
       "Name: 2, dtype: object"
      ]
     },
     "execution_count": 39,
     "metadata": {},
     "output_type": "execute_result"
    }
   ],
   "source": [
    "df_2008.sort_values(by='Global_Sales', ascending=False).iloc[0]"
   ]
  },
  {
   "cell_type": "markdown",
   "metadata": {},
   "source": [
    "    11) Qual o nome do jogo que é exibido ao executar o comando para retornar o primeiro documento da coleção onde a condição seja a plataforma (“Platform”) igual a PS4?"
   ]
  },
  {
   "cell_type": "code",
   "execution_count": 31,
   "metadata": {},
   "outputs": [
    {
     "data": {
      "text/html": [
       "<div>\n",
       "<style scoped>\n",
       "    .dataframe tbody tr th:only-of-type {\n",
       "        vertical-align: middle;\n",
       "    }\n",
       "\n",
       "    .dataframe tbody tr th {\n",
       "        vertical-align: top;\n",
       "    }\n",
       "\n",
       "    .dataframe thead th {\n",
       "        text-align: right;\n",
       "    }\n",
       "</style>\n",
       "<table border=\"1\" class=\"dataframe\">\n",
       "  <thead>\n",
       "    <tr style=\"text-align: right;\">\n",
       "      <th></th>\n",
       "      <th>_id</th>\n",
       "      <th>Rank</th>\n",
       "      <th>Name</th>\n",
       "      <th>Platform</th>\n",
       "      <th>Year</th>\n",
       "      <th>Genre</th>\n",
       "      <th>Publisher</th>\n",
       "      <th>NA_Sales</th>\n",
       "      <th>EU_Sales</th>\n",
       "      <th>JP_Sales</th>\n",
       "      <th>Other_Sales</th>\n",
       "      <th>Global_Sales</th>\n",
       "    </tr>\n",
       "  </thead>\n",
       "  <tbody>\n",
       "    <tr>\n",
       "      <th>33</th>\n",
       "      <td>{'$oid': '5f7a16f90a65c63ff4970bab'}</td>\n",
       "      <td>34</td>\n",
       "      <td>Call of Duty: Black Ops 3</td>\n",
       "      <td>PS4</td>\n",
       "      <td>2015.0</td>\n",
       "      <td>Shooter</td>\n",
       "      <td>Activision</td>\n",
       "      <td>5.77</td>\n",
       "      <td>5.81</td>\n",
       "      <td>0.35</td>\n",
       "      <td>2.31</td>\n",
       "      <td>14.24</td>\n",
       "    </tr>\n",
       "  </tbody>\n",
       "</table>\n",
       "</div>"
      ],
      "text/plain": [
       "                                     _id  Rank                       Name  \\\n",
       "33  {'$oid': '5f7a16f90a65c63ff4970bab'}    34  Call of Duty: Black Ops 3   \n",
       "\n",
       "   Platform    Year    Genre   Publisher  NA_Sales  EU_Sales  JP_Sales  \\\n",
       "33      PS4  2015.0  Shooter  Activision      5.77      5.81      0.35   \n",
       "\n",
       "    Other_Sales  Global_Sales  \n",
       "33         2.31         14.24  "
      ]
     },
     "execution_count": 31,
     "metadata": {},
     "output_type": "execute_result"
    }
   ],
   "source": [
    "df.query('Platform == \"PS4\"').head(1)"
   ]
  },
  {
   "cell_type": "markdown",
   "metadata": {},
   "source": [
    "R11: Call of Duty: Black Ops 3"
   ]
  },
  {
   "cell_type": "markdown",
   "metadata": {},
   "source": [
    "    12) Quantos documentos existem na base de dados referentes à plataforma (“Platform”) “X360”? "
   ]
  },
  {
   "cell_type": "code",
   "execution_count": 32,
   "metadata": {},
   "outputs": [
    {
     "data": {
      "text/plain": [
       "1265"
      ]
     },
     "execution_count": 32,
     "metadata": {},
     "output_type": "execute_result"
    }
   ],
   "source": [
    "plataformas = df['Platform'].value_counts()\n",
    "plataformas.loc['X360']"
   ]
  },
  {
   "cell_type": "markdown",
   "metadata": {},
   "source": [
    "    13) Qual a plataforma (“Platform”) do jogo mais vendido no Japão (\"JP_Sales\") no ano de 2015? "
   ]
  },
  {
   "cell_type": "code",
   "execution_count": 41,
   "metadata": {},
   "outputs": [],
   "source": [
    "df_2015 = df.query('Year == 2015.0')"
   ]
  },
  {
   "cell_type": "code",
   "execution_count": 44,
   "metadata": {},
   "outputs": [
    {
     "data": {
      "text/plain": [
       "_id             {'$oid': '5f7a16f90a65c63ff4970d28'}\n",
       "Rank                                             415\n",
       "Name                                Monster Hunter X\n",
       "Platform                                         3DS\n",
       "Year                                            2015\n",
       "Genre                                         Action\n",
       "Publisher                                     Capcom\n",
       "NA_Sales                                        0.25\n",
       "EU_Sales                                        0.19\n",
       "JP_Sales                                        2.78\n",
       "Other_Sales                                     0.04\n",
       "Global_Sales                                    3.26\n",
       "Name: 414, dtype: object"
      ]
     },
     "execution_count": 44,
     "metadata": {},
     "output_type": "execute_result"
    }
   ],
   "source": [
    "df_2015.sort_values(by='JP_Sales', ascending=False).iloc[0]"
   ]
  },
  {
   "cell_type": "code",
   "execution_count": 43,
   "metadata": {},
   "outputs": [
    {
     "data": {
      "text/plain": [
       "414    3DS\n",
       "Name: Platform, dtype: object"
      ]
     },
     "execution_count": 43,
     "metadata": {},
     "output_type": "execute_result"
    }
   ],
   "source": [
    "df_2015[df_2015['JP_Sales'] == df_2015['JP_Sales'].max()].Platform"
   ]
  },
  {
   "cell_type": "markdown",
   "metadata": {},
   "source": [
    "    14) Em que posição do “Rank” o jogo “The Witcher 3: Wild Hunt” está considerando a plataforma “XOne”? "
   ]
  },
  {
   "cell_type": "code",
   "execution_count": 34,
   "metadata": {},
   "outputs": [
    {
     "data": {
      "text/html": [
       "<div>\n",
       "<style scoped>\n",
       "    .dataframe tbody tr th:only-of-type {\n",
       "        vertical-align: middle;\n",
       "    }\n",
       "\n",
       "    .dataframe tbody tr th {\n",
       "        vertical-align: top;\n",
       "    }\n",
       "\n",
       "    .dataframe thead th {\n",
       "        text-align: right;\n",
       "    }\n",
       "</style>\n",
       "<table border=\"1\" class=\"dataframe\">\n",
       "  <thead>\n",
       "    <tr style=\"text-align: right;\">\n",
       "      <th></th>\n",
       "      <th>_id</th>\n",
       "      <th>Rank</th>\n",
       "      <th>Name</th>\n",
       "      <th>Platform</th>\n",
       "      <th>Year</th>\n",
       "      <th>Genre</th>\n",
       "      <th>Publisher</th>\n",
       "      <th>NA_Sales</th>\n",
       "      <th>EU_Sales</th>\n",
       "      <th>JP_Sales</th>\n",
       "      <th>Other_Sales</th>\n",
       "      <th>Global_Sales</th>\n",
       "    </tr>\n",
       "  </thead>\n",
       "  <tbody>\n",
       "    <tr>\n",
       "      <th>1605</th>\n",
       "      <td>{'$oid': '5f7a16f90a65c63ff49711cf'}</td>\n",
       "      <td>1607</td>\n",
       "      <td>The Witcher 3: Wild Hunt</td>\n",
       "      <td>XOne</td>\n",
       "      <td>2015.0</td>\n",
       "      <td>Role-Playing</td>\n",
       "      <td>Namco Bandai Games</td>\n",
       "      <td>0.66</td>\n",
       "      <td>0.47</td>\n",
       "      <td>0.0</td>\n",
       "      <td>0.11</td>\n",
       "      <td>1.24</td>\n",
       "    </tr>\n",
       "  </tbody>\n",
       "</table>\n",
       "</div>"
      ],
      "text/plain": [
       "                                       _id  Rank                      Name  \\\n",
       "1605  {'$oid': '5f7a16f90a65c63ff49711cf'}  1607  The Witcher 3: Wild Hunt   \n",
       "\n",
       "     Platform    Year         Genre           Publisher  NA_Sales  EU_Sales  \\\n",
       "1605     XOne  2015.0  Role-Playing  Namco Bandai Games      0.66      0.47   \n",
       "\n",
       "      JP_Sales  Other_Sales  Global_Sales  \n",
       "1605       0.0         0.11          1.24  "
      ]
     },
     "execution_count": 34,
     "metadata": {},
     "output_type": "execute_result"
    }
   ],
   "source": [
    "df.query('Name == \"The Witcher 3: Wild Hunt\" & Platform==\"XOne\"')"
   ]
  },
  {
   "cell_type": "markdown",
   "metadata": {},
   "source": [
    "    15) Quantos documentos são retornados ao executar uma consulta em que o atributo “Global_Sales” seja maior ou igual a 2? "
   ]
  },
  {
   "cell_type": "code",
   "execution_count": 35,
   "metadata": {},
   "outputs": [
    {
     "data": {
      "text/plain": [
       "846"
      ]
     },
     "execution_count": 35,
     "metadata": {},
     "output_type": "execute_result"
    }
   ],
   "source": [
    "df.query('Global_Sales > 2').shape[0]"
   ]
  }
 ],
 "metadata": {
  "kernelspec": {
   "display_name": "Python 3",
   "language": "python",
   "name": "python3"
  },
  "language_info": {
   "codemirror_mode": {
    "name": "ipython",
    "version": 3
   },
   "file_extension": ".py",
   "mimetype": "text/x-python",
   "name": "python",
   "nbconvert_exporter": "python",
   "pygments_lexer": "ipython3",
   "version": "3.7.6"
  }
 },
 "nbformat": 4,
 "nbformat_minor": 4
}
