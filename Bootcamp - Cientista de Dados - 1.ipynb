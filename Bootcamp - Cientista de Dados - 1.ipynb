{
 "cells": [
  {
   "cell_type": "markdown",
   "metadata": {},
   "source": [
    "# IGTI - Bootcamp - Cientista de Dados\n",
    "\n",
    "## Desafio 1\n",
    "\n",
    "Autor: Leonardo Simões"
   ]
  },
  {
   "cell_type": "markdown",
   "metadata": {},
   "source": [
    "### Perguntas\n",
    "\n",
    "1 - Ao criar um gráfico de colunas com a média de salário (ConvertedComp) por formação (EdLevel), filtrando os dados da França, como fica o gráfico? \n",
    "\n",
    "2 -  Ao criar um gráfico de colunas com a média de salário (ConvertedComp) por nível de satisfação (JobSat), filtrando os dados do Chile, como fica o gráfico?\n",
    "\n",
    "3 - Crie um gráfico para analisar o uso dos Sistemas Operacionais (OpSys). Qual a Sistema Operacional mais usado na França?\n",
    "\n",
    "4 - Crie um gráfico de dispersão com a idade (Age) e a média de salário por idade (ConvertedComp). Filtre por Albânia e adicione uma linha de tendência. Analisando a linha de tendência, podemos afirmar que à medida que a idade aumenta, o que acontece com o salário? \n",
    "\n",
    "5 - Crie um cartão para visualizar a média e outro para visualizar a mediana do salário (ConvertedComp) no Brasil. Qual o valor da média e mediana, respectivamente?\n",
    "\n",
    "6 - Crie um gráfico para analisar o nível de formação dos desenvolvedores (EdLevel). Aplicando um filtro que remove apenas os registros dos Estados Unidos, qual é o país com maior número de desenvolvedores que nunca tiveram uma educação formal? \n",
    "\n",
    "7 - Crie um gráfico de forma que consiga visualizar quando os desenvolvedores começaram a trabalhar na área (Age1stCode). Com que idade a maioria das pessoas começa a programar no Brasil?\n",
    "\n",
    "8 - Crie uma consulta em SQL e responda: Qual a média salarial nessa empresa? \n",
    "\n",
    "9 - Crie uma consulta em SQL e responda: Quantos empregados do departamento 5 trabalham mais de 10h por semana no projeto chamado \"ProductX\"? \n",
    "\n",
    "10 - Crie uma consulta em SQL e responda: Quantos empregados possuem um dependente com o mesmo primeiro nome que o deles? \n",
    "\n",
    "11 - Crie uma consulta em SQL e responda: Quais os nomes de todos os empregados que são diretamente supervisionados por Franklin Wong \n",
    "\n",
    "12 - Crie uma consulta em SQL e responda: Quem é a pessoa que possui mais tempo de alocação no projeto 'Newbenefits'? \n",
    "\n",
    "13 - Crie uma consulta em SQL e responda: Qual é a soma dos salários de todos os empregados do departamento chamado 'Research'? \n",
    "\n",
    "14 - Crie uma consulta em SQL e responda: Qual seria o custo do projeto com folha salarial (soma de todos os salários) caso a empresa desse 10% de aumento para todos os empregados que trabalham no projeto 'ProductX'? \n",
    "\n",
    "15 - Crie uma consulta em SQL e responda: Qual o nome do departamento com a menor média de salário entre seus funcionários? "
   ]
  },
  {
   "cell_type": "markdown",
   "metadata": {},
   "source": [
    "### Desenvolvimento"
   ]
  },
  {
   "cell_type": "code",
   "execution_count": 47,
   "metadata": {},
   "outputs": [],
   "source": [
    "import pandas as pd\n",
    "import numpy as np\n",
    "import matplotlib.pyplot as plt\n",
    "import seaborn as sns"
   ]
  },
  {
   "cell_type": "code",
   "execution_count": 2,
   "metadata": {},
   "outputs": [
    {
     "data": {
      "text/html": [
       "<div>\n",
       "<style scoped>\n",
       "    .dataframe tbody tr th:only-of-type {\n",
       "        vertical-align: middle;\n",
       "    }\n",
       "\n",
       "    .dataframe tbody tr th {\n",
       "        vertical-align: top;\n",
       "    }\n",
       "\n",
       "    .dataframe thead th {\n",
       "        text-align: right;\n",
       "    }\n",
       "</style>\n",
       "<table border=\"1\" class=\"dataframe\">\n",
       "  <thead>\n",
       "    <tr style=\"text-align: right;\">\n",
       "      <th></th>\n",
       "      <th>Respondent</th>\n",
       "      <th>MainBranch</th>\n",
       "      <th>Hobbyist</th>\n",
       "      <th>Age</th>\n",
       "      <th>Age1stCode</th>\n",
       "      <th>CompFreq</th>\n",
       "      <th>CompTotal</th>\n",
       "      <th>ConvertedComp</th>\n",
       "      <th>Country</th>\n",
       "      <th>CurrencyDesc</th>\n",
       "      <th>...</th>\n",
       "      <th>SurveyEase</th>\n",
       "      <th>SurveyLength</th>\n",
       "      <th>Trans</th>\n",
       "      <th>UndergradMajor</th>\n",
       "      <th>WebframeDesireNextYear</th>\n",
       "      <th>WebframeWorkedWith</th>\n",
       "      <th>WelcomeChange</th>\n",
       "      <th>WorkWeekHrs</th>\n",
       "      <th>YearsCode</th>\n",
       "      <th>YearsCodePro</th>\n",
       "    </tr>\n",
       "  </thead>\n",
       "  <tbody>\n",
       "    <tr>\n",
       "      <th>0</th>\n",
       "      <td>1</td>\n",
       "      <td>I am a developer by profession</td>\n",
       "      <td>Yes</td>\n",
       "      <td>NaN</td>\n",
       "      <td>13</td>\n",
       "      <td>Monthly</td>\n",
       "      <td>NaN</td>\n",
       "      <td>NaN</td>\n",
       "      <td>Germany</td>\n",
       "      <td>European Euro</td>\n",
       "      <td>...</td>\n",
       "      <td>Neither easy nor difficult</td>\n",
       "      <td>Appropriate in length</td>\n",
       "      <td>No</td>\n",
       "      <td>Computer science, computer engineering, or sof...</td>\n",
       "      <td>ASP.NET Core</td>\n",
       "      <td>ASP.NET;ASP.NET Core</td>\n",
       "      <td>Just as welcome now as I felt last year</td>\n",
       "      <td>50.0</td>\n",
       "      <td>36</td>\n",
       "      <td>27</td>\n",
       "    </tr>\n",
       "    <tr>\n",
       "      <th>1</th>\n",
       "      <td>2</td>\n",
       "      <td>I am a developer by profession</td>\n",
       "      <td>No</td>\n",
       "      <td>NaN</td>\n",
       "      <td>19</td>\n",
       "      <td>NaN</td>\n",
       "      <td>NaN</td>\n",
       "      <td>NaN</td>\n",
       "      <td>United Kingdom</td>\n",
       "      <td>Pound sterling</td>\n",
       "      <td>...</td>\n",
       "      <td>NaN</td>\n",
       "      <td>NaN</td>\n",
       "      <td>NaN</td>\n",
       "      <td>Computer science, computer engineering, or sof...</td>\n",
       "      <td>NaN</td>\n",
       "      <td>NaN</td>\n",
       "      <td>Somewhat more welcome now than last year</td>\n",
       "      <td>NaN</td>\n",
       "      <td>7</td>\n",
       "      <td>4</td>\n",
       "    </tr>\n",
       "    <tr>\n",
       "      <th>2</th>\n",
       "      <td>3</td>\n",
       "      <td>I code primarily as a hobby</td>\n",
       "      <td>Yes</td>\n",
       "      <td>NaN</td>\n",
       "      <td>15</td>\n",
       "      <td>NaN</td>\n",
       "      <td>NaN</td>\n",
       "      <td>NaN</td>\n",
       "      <td>Russian Federation</td>\n",
       "      <td>NaN</td>\n",
       "      <td>...</td>\n",
       "      <td>Neither easy nor difficult</td>\n",
       "      <td>Appropriate in length</td>\n",
       "      <td>NaN</td>\n",
       "      <td>NaN</td>\n",
       "      <td>NaN</td>\n",
       "      <td>NaN</td>\n",
       "      <td>Somewhat more welcome now than last year</td>\n",
       "      <td>NaN</td>\n",
       "      <td>4</td>\n",
       "      <td>NaN</td>\n",
       "    </tr>\n",
       "    <tr>\n",
       "      <th>3</th>\n",
       "      <td>4</td>\n",
       "      <td>I am a developer by profession</td>\n",
       "      <td>Yes</td>\n",
       "      <td>25.0</td>\n",
       "      <td>18</td>\n",
       "      <td>NaN</td>\n",
       "      <td>NaN</td>\n",
       "      <td>NaN</td>\n",
       "      <td>Albania</td>\n",
       "      <td>Albanian lek</td>\n",
       "      <td>...</td>\n",
       "      <td>NaN</td>\n",
       "      <td>NaN</td>\n",
       "      <td>No</td>\n",
       "      <td>Computer science, computer engineering, or sof...</td>\n",
       "      <td>NaN</td>\n",
       "      <td>NaN</td>\n",
       "      <td>Somewhat less welcome now than last year</td>\n",
       "      <td>40.0</td>\n",
       "      <td>7</td>\n",
       "      <td>4</td>\n",
       "    </tr>\n",
       "    <tr>\n",
       "      <th>4</th>\n",
       "      <td>5</td>\n",
       "      <td>I used to be a developer by profession, but no...</td>\n",
       "      <td>Yes</td>\n",
       "      <td>31.0</td>\n",
       "      <td>16</td>\n",
       "      <td>NaN</td>\n",
       "      <td>NaN</td>\n",
       "      <td>NaN</td>\n",
       "      <td>United States</td>\n",
       "      <td>NaN</td>\n",
       "      <td>...</td>\n",
       "      <td>Easy</td>\n",
       "      <td>Too short</td>\n",
       "      <td>No</td>\n",
       "      <td>Computer science, computer engineering, or sof...</td>\n",
       "      <td>Django;Ruby on Rails</td>\n",
       "      <td>Ruby on Rails</td>\n",
       "      <td>Just as welcome now as I felt last year</td>\n",
       "      <td>NaN</td>\n",
       "      <td>15</td>\n",
       "      <td>8</td>\n",
       "    </tr>\n",
       "  </tbody>\n",
       "</table>\n",
       "<p>5 rows × 61 columns</p>\n",
       "</div>"
      ],
      "text/plain": [
       "   Respondent                                         MainBranch Hobbyist  \\\n",
       "0           1                     I am a developer by profession      Yes   \n",
       "1           2                     I am a developer by profession       No   \n",
       "2           3                        I code primarily as a hobby      Yes   \n",
       "3           4                     I am a developer by profession      Yes   \n",
       "4           5  I used to be a developer by profession, but no...      Yes   \n",
       "\n",
       "    Age Age1stCode CompFreq  CompTotal  ConvertedComp             Country  \\\n",
       "0   NaN         13  Monthly        NaN            NaN             Germany   \n",
       "1   NaN         19      NaN        NaN            NaN      United Kingdom   \n",
       "2   NaN         15      NaN        NaN            NaN  Russian Federation   \n",
       "3  25.0         18      NaN        NaN            NaN             Albania   \n",
       "4  31.0         16      NaN        NaN            NaN       United States   \n",
       "\n",
       "     CurrencyDesc  ...                  SurveyEase           SurveyLength  \\\n",
       "0   European Euro  ...  Neither easy nor difficult  Appropriate in length   \n",
       "1  Pound sterling  ...                         NaN                    NaN   \n",
       "2             NaN  ...  Neither easy nor difficult  Appropriate in length   \n",
       "3    Albanian lek  ...                         NaN                    NaN   \n",
       "4             NaN  ...                        Easy              Too short   \n",
       "\n",
       "  Trans                                     UndergradMajor  \\\n",
       "0    No  Computer science, computer engineering, or sof...   \n",
       "1   NaN  Computer science, computer engineering, or sof...   \n",
       "2   NaN                                                NaN   \n",
       "3    No  Computer science, computer engineering, or sof...   \n",
       "4    No  Computer science, computer engineering, or sof...   \n",
       "\n",
       "  WebframeDesireNextYear    WebframeWorkedWith  \\\n",
       "0           ASP.NET Core  ASP.NET;ASP.NET Core   \n",
       "1                    NaN                   NaN   \n",
       "2                    NaN                   NaN   \n",
       "3                    NaN                   NaN   \n",
       "4   Django;Ruby on Rails         Ruby on Rails   \n",
       "\n",
       "                              WelcomeChange WorkWeekHrs YearsCode YearsCodePro  \n",
       "0   Just as welcome now as I felt last year        50.0        36           27  \n",
       "1  Somewhat more welcome now than last year         NaN         7            4  \n",
       "2  Somewhat more welcome now than last year         NaN         4          NaN  \n",
       "3  Somewhat less welcome now than last year        40.0         7            4  \n",
       "4   Just as welcome now as I felt last year         NaN        15            8  \n",
       "\n",
       "[5 rows x 61 columns]"
      ]
     },
     "execution_count": 2,
     "metadata": {},
     "output_type": "execute_result"
    }
   ],
   "source": [
    "df = pd.read_csv('survey_results_public.csv')\n",
    "df.head()"
   ]
  },
  {
   "cell_type": "code",
   "execution_count": 3,
   "metadata": {},
   "outputs": [
    {
     "data": {
      "text/html": [
       "<div>\n",
       "<style scoped>\n",
       "    .dataframe tbody tr th:only-of-type {\n",
       "        vertical-align: middle;\n",
       "    }\n",
       "\n",
       "    .dataframe tbody tr th {\n",
       "        vertical-align: top;\n",
       "    }\n",
       "\n",
       "    .dataframe thead th {\n",
       "        text-align: right;\n",
       "    }\n",
       "</style>\n",
       "<table border=\"1\" class=\"dataframe\">\n",
       "  <thead>\n",
       "    <tr style=\"text-align: right;\">\n",
       "      <th></th>\n",
       "      <th>Age</th>\n",
       "      <th>Age1stCode</th>\n",
       "      <th>ConvertedComp</th>\n",
       "      <th>Country</th>\n",
       "      <th>EdLevel</th>\n",
       "      <th>JobSat</th>\n",
       "      <th>OpSys</th>\n",
       "      <th>YearsCode</th>\n",
       "    </tr>\n",
       "  </thead>\n",
       "  <tbody>\n",
       "    <tr>\n",
       "      <th>0</th>\n",
       "      <td>NaN</td>\n",
       "      <td>13</td>\n",
       "      <td>NaN</td>\n",
       "      <td>Germany</td>\n",
       "      <td>Master’s degree (M.A., M.S., M.Eng., MBA, etc.)</td>\n",
       "      <td>Slightly satisfied</td>\n",
       "      <td>Windows</td>\n",
       "      <td>36</td>\n",
       "    </tr>\n",
       "    <tr>\n",
       "      <th>1</th>\n",
       "      <td>NaN</td>\n",
       "      <td>19</td>\n",
       "      <td>NaN</td>\n",
       "      <td>United Kingdom</td>\n",
       "      <td>Bachelor’s degree (B.A., B.S., B.Eng., etc.)</td>\n",
       "      <td>Very dissatisfied</td>\n",
       "      <td>MacOS</td>\n",
       "      <td>7</td>\n",
       "    </tr>\n",
       "    <tr>\n",
       "      <th>2</th>\n",
       "      <td>NaN</td>\n",
       "      <td>15</td>\n",
       "      <td>NaN</td>\n",
       "      <td>Russian Federation</td>\n",
       "      <td>NaN</td>\n",
       "      <td>NaN</td>\n",
       "      <td>Linux-based</td>\n",
       "      <td>4</td>\n",
       "    </tr>\n",
       "    <tr>\n",
       "      <th>3</th>\n",
       "      <td>25.0</td>\n",
       "      <td>18</td>\n",
       "      <td>NaN</td>\n",
       "      <td>Albania</td>\n",
       "      <td>Master’s degree (M.A., M.S., M.Eng., MBA, etc.)</td>\n",
       "      <td>Slightly dissatisfied</td>\n",
       "      <td>Linux-based</td>\n",
       "      <td>7</td>\n",
       "    </tr>\n",
       "    <tr>\n",
       "      <th>4</th>\n",
       "      <td>31.0</td>\n",
       "      <td>16</td>\n",
       "      <td>NaN</td>\n",
       "      <td>United States</td>\n",
       "      <td>Bachelor’s degree (B.A., B.S., B.Eng., etc.)</td>\n",
       "      <td>NaN</td>\n",
       "      <td>Windows</td>\n",
       "      <td>15</td>\n",
       "    </tr>\n",
       "  </tbody>\n",
       "</table>\n",
       "</div>"
      ],
      "text/plain": [
       "    Age Age1stCode  ConvertedComp             Country  \\\n",
       "0   NaN         13            NaN             Germany   \n",
       "1   NaN         19            NaN      United Kingdom   \n",
       "2   NaN         15            NaN  Russian Federation   \n",
       "3  25.0         18            NaN             Albania   \n",
       "4  31.0         16            NaN       United States   \n",
       "\n",
       "                                           EdLevel                 JobSat  \\\n",
       "0  Master’s degree (M.A., M.S., M.Eng., MBA, etc.)     Slightly satisfied   \n",
       "1     Bachelor’s degree (B.A., B.S., B.Eng., etc.)      Very dissatisfied   \n",
       "2                                              NaN                    NaN   \n",
       "3  Master’s degree (M.A., M.S., M.Eng., MBA, etc.)  Slightly dissatisfied   \n",
       "4     Bachelor’s degree (B.A., B.S., B.Eng., etc.)                    NaN   \n",
       "\n",
       "         OpSys YearsCode  \n",
       "0      Windows        36  \n",
       "1        MacOS         7  \n",
       "2  Linux-based         4  \n",
       "3  Linux-based         7  \n",
       "4      Windows        15  "
      ]
     },
     "execution_count": 3,
     "metadata": {},
     "output_type": "execute_result"
    }
   ],
   "source": [
    "df = df[['Age', 'Age1stCode', 'ConvertedComp', 'Country', 'EdLevel', 'JobSat', 'OpSys', 'YearsCode']]\n",
    "df.head()"
   ]
  },
  {
   "cell_type": "code",
   "execution_count": 44,
   "metadata": {},
   "outputs": [
    {
     "data": {
      "text/plain": [
       "United States                         12469\n",
       "India                                  8403\n",
       "United Kingdom                         3896\n",
       "Germany                                3890\n",
       "Canada                                 2191\n",
       "                                      ...  \n",
       "Marshall Islands                          1\n",
       "Mali                                      1\n",
       "Lesotho                                   1\n",
       "Fiji                                      1\n",
       "Micronesia, Federated States of...        1\n",
       "Name: Country, Length: 183, dtype: int64"
      ]
     },
     "execution_count": 44,
     "metadata": {},
     "output_type": "execute_result"
    }
   ],
   "source": [
    "df['Country'].value_counts()"
   ]
  },
  {
   "cell_type": "markdown",
   "metadata": {},
   "source": [
    "    1) Ao criar um gráfico de colunas com a média de salário (ConvertedComp) por formação (EdLevel), filtrando os dados da França, como fica o gráfico?"
   ]
  },
  {
   "cell_type": "code",
   "execution_count": 36,
   "metadata": {},
   "outputs": [
    {
     "data": {
      "text/html": [
       "<div>\n",
       "<style scoped>\n",
       "    .dataframe tbody tr th:only-of-type {\n",
       "        vertical-align: middle;\n",
       "    }\n",
       "\n",
       "    .dataframe tbody tr th {\n",
       "        vertical-align: top;\n",
       "    }\n",
       "\n",
       "    .dataframe thead th {\n",
       "        text-align: right;\n",
       "    }\n",
       "</style>\n",
       "<table border=\"1\" class=\"dataframe\">\n",
       "  <thead>\n",
       "    <tr style=\"text-align: right;\">\n",
       "      <th></th>\n",
       "      <th>Age</th>\n",
       "      <th>Age1stCode</th>\n",
       "      <th>ConvertedComp</th>\n",
       "      <th>Country</th>\n",
       "      <th>EdLevel</th>\n",
       "      <th>JobSat</th>\n",
       "      <th>OpSys</th>\n",
       "      <th>YearsCode</th>\n",
       "    </tr>\n",
       "  </thead>\n",
       "  <tbody>\n",
       "    <tr>\n",
       "      <th>14</th>\n",
       "      <td>NaN</td>\n",
       "      <td>13</td>\n",
       "      <td>NaN</td>\n",
       "      <td>France</td>\n",
       "      <td>Bachelor’s degree (B.A., B.S., B.Eng., etc.)</td>\n",
       "      <td>NaN</td>\n",
       "      <td>Linux-based</td>\n",
       "      <td>4</td>\n",
       "    </tr>\n",
       "    <tr>\n",
       "      <th>36</th>\n",
       "      <td>19.0</td>\n",
       "      <td>16</td>\n",
       "      <td>NaN</td>\n",
       "      <td>France</td>\n",
       "      <td>Associate degree (A.A., A.S., etc.)</td>\n",
       "      <td>Very satisfied</td>\n",
       "      <td>Windows</td>\n",
       "      <td>2</td>\n",
       "    </tr>\n",
       "    <tr>\n",
       "      <th>44</th>\n",
       "      <td>22.0</td>\n",
       "      <td>13</td>\n",
       "      <td>36753.0</td>\n",
       "      <td>France</td>\n",
       "      <td>Master’s degree (M.A., M.S., M.Eng., MBA, etc.)</td>\n",
       "      <td>Very satisfied</td>\n",
       "      <td>Windows</td>\n",
       "      <td>9</td>\n",
       "    </tr>\n",
       "    <tr>\n",
       "      <th>45</th>\n",
       "      <td>24.0</td>\n",
       "      <td>14</td>\n",
       "      <td>37834.0</td>\n",
       "      <td>France</td>\n",
       "      <td>Master’s degree (M.A., M.S., M.Eng., MBA, etc.)</td>\n",
       "      <td>Slightly satisfied</td>\n",
       "      <td>Windows</td>\n",
       "      <td>6</td>\n",
       "    </tr>\n",
       "    <tr>\n",
       "      <th>68</th>\n",
       "      <td>25.0</td>\n",
       "      <td>12</td>\n",
       "      <td>594539.0</td>\n",
       "      <td>France</td>\n",
       "      <td>Master’s degree (M.A., M.S., M.Eng., MBA, etc.)</td>\n",
       "      <td>Very satisfied</td>\n",
       "      <td>MacOS</td>\n",
       "      <td>13</td>\n",
       "    </tr>\n",
       "  </tbody>\n",
       "</table>\n",
       "</div>"
      ],
      "text/plain": [
       "     Age Age1stCode  ConvertedComp Country  \\\n",
       "14   NaN         13            NaN  France   \n",
       "36  19.0         16            NaN  France   \n",
       "44  22.0         13        36753.0  France   \n",
       "45  24.0         14        37834.0  France   \n",
       "68  25.0         12       594539.0  France   \n",
       "\n",
       "                                            EdLevel              JobSat  \\\n",
       "14     Bachelor’s degree (B.A., B.S., B.Eng., etc.)                 NaN   \n",
       "36              Associate degree (A.A., A.S., etc.)      Very satisfied   \n",
       "44  Master’s degree (M.A., M.S., M.Eng., MBA, etc.)      Very satisfied   \n",
       "45  Master’s degree (M.A., M.S., M.Eng., MBA, etc.)  Slightly satisfied   \n",
       "68  Master’s degree (M.A., M.S., M.Eng., MBA, etc.)      Very satisfied   \n",
       "\n",
       "          OpSys YearsCode  \n",
       "14  Linux-based         4  \n",
       "36      Windows         2  \n",
       "44      Windows         9  \n",
       "45      Windows         6  \n",
       "68        MacOS        13  "
      ]
     },
     "execution_count": 36,
     "metadata": {},
     "output_type": "execute_result"
    }
   ],
   "source": [
    "#Filtrando por França\n",
    "df_franca = df.query('Country == \"France\"')\n",
    "df_franca.head()"
   ]
  },
  {
   "cell_type": "code",
   "execution_count": 37,
   "metadata": {},
   "outputs": [
    {
     "data": {
      "text/plain": [
       "EdLevel\n",
       "Associate degree (A.A., A.S., etc.)                                                    70399.928571\n",
       "Bachelor’s degree (B.A., B.S., B.Eng., etc.)                                           68572.212644\n",
       "I never completed any formal education                                                 33727.666667\n",
       "Master’s degree (M.A., M.S., M.Eng., MBA, etc.)                                        75916.759184\n",
       "Other doctoral degree (Ph.D., Ed.D., etc.)                                             76021.690141\n",
       "Primary/elementary school                                                              37834.000000\n",
       "Professional degree (JD, MD, etc.)                                                     64255.657143\n",
       "Secondary school (e.g. American high school, German Realschule or Gymnasium, etc.)    135849.142857\n",
       "Some college/university study without earning a degree                                 74226.903846\n",
       "Name: ConvertedComp, dtype: float64"
      ]
     },
     "execution_count": 37,
     "metadata": {},
     "output_type": "execute_result"
    }
   ],
   "source": [
    "#Agrupar por formação e valor médio\n",
    "salarios = df_franca.groupby('EdLevel').mean()['ConvertedComp']\n",
    "salarios"
   ]
  },
  {
   "cell_type": "code",
   "execution_count": 38,
   "metadata": {},
   "outputs": [
    {
     "data": {
      "text/plain": [
       "pandas.core.series.Series"
      ]
     },
     "execution_count": 38,
     "metadata": {},
     "output_type": "execute_result"
    }
   ],
   "source": [
    "type(salarios)"
   ]
  },
  {
   "cell_type": "code",
   "execution_count": 39,
   "metadata": {},
   "outputs": [
    {
     "data": {
      "text/plain": [
       "EdLevel\n",
       "Secondary school (e.g. American high school, German Realschule or Gymnasium, etc.)    135849.142857\n",
       "Other doctoral degree (Ph.D., Ed.D., etc.)                                             76021.690141\n",
       "Master’s degree (M.A., M.S., M.Eng., MBA, etc.)                                        75916.759184\n",
       "Some college/university study without earning a degree                                 74226.903846\n",
       "Associate degree (A.A., A.S., etc.)                                                    70399.928571\n",
       "Bachelor’s degree (B.A., B.S., B.Eng., etc.)                                           68572.212644\n",
       "Professional degree (JD, MD, etc.)                                                     64255.657143\n",
       "Primary/elementary school                                                              37834.000000\n",
       "I never completed any formal education                                                 33727.666667\n",
       "Name: ConvertedComp, dtype: float64"
      ]
     },
     "execution_count": 39,
     "metadata": {},
     "output_type": "execute_result"
    }
   ],
   "source": [
    "salarios = salarios.sort_values(ascending=False)\n",
    "salarios"
   ]
  },
  {
   "cell_type": "code",
   "execution_count": 40,
   "metadata": {},
   "outputs": [
    {
     "data": {
      "image/png": "[encoded data removed]",
      "text/plain": [
       "<Figure size 432x288 with 1 Axes>"
      ]
     },
     "metadata": {
      "needs_background": "light"
     },
     "output_type": "display_data"
    }
   ],
   "source": [
    "salarios.plot.bar();"
   ]
  },
  {
   "cell_type": "markdown",
   "metadata": {},
   "source": [
    "    2) Ao criar um gráfico de colunas com a média de salário (ConvertedComp) por nível de satisfação (JobSat), filtrando os dados do Chile, como fica o gráfico? "
   ]
  },
  {
   "cell_type": "code",
   "execution_count": 23,
   "metadata": {},
   "outputs": [
    {
     "data": {
      "text/html": [
       "<div>\n",
       "<style scoped>\n",
       "    .dataframe tbody tr th:only-of-type {\n",
       "        vertical-align: middle;\n",
       "    }\n",
       "\n",
       "    .dataframe tbody tr th {\n",
       "        vertical-align: top;\n",
       "    }\n",
       "\n",
       "    .dataframe thead th {\n",
       "        text-align: right;\n",
       "    }\n",
       "</style>\n",
       "<table border=\"1\" class=\"dataframe\">\n",
       "  <thead>\n",
       "    <tr style=\"text-align: right;\">\n",
       "      <th></th>\n",
       "      <th>Age</th>\n",
       "      <th>Age1stCode</th>\n",
       "      <th>ConvertedComp</th>\n",
       "      <th>Country</th>\n",
       "      <th>EdLevel</th>\n",
       "      <th>JobSat</th>\n",
       "      <th>OpSys</th>\n",
       "      <th>YearsCode</th>\n",
       "    </tr>\n",
       "  </thead>\n",
       "  <tbody>\n",
       "    <tr>\n",
       "      <th>289</th>\n",
       "      <td>18.0</td>\n",
       "      <td>13</td>\n",
       "      <td>NaN</td>\n",
       "      <td>Chile</td>\n",
       "      <td>Primary/elementary school</td>\n",
       "      <td>NaN</td>\n",
       "      <td>Windows</td>\n",
       "      <td>5</td>\n",
       "    </tr>\n",
       "    <tr>\n",
       "      <th>1206</th>\n",
       "      <td>26.0</td>\n",
       "      <td>6</td>\n",
       "      <td>18060.0</td>\n",
       "      <td>Chile</td>\n",
       "      <td>Some college/university study without earning ...</td>\n",
       "      <td>Slightly satisfied</td>\n",
       "      <td>Windows</td>\n",
       "      <td>8</td>\n",
       "    </tr>\n",
       "    <tr>\n",
       "      <th>1717</th>\n",
       "      <td>33.0</td>\n",
       "      <td>10</td>\n",
       "      <td>30108.0</td>\n",
       "      <td>Chile</td>\n",
       "      <td>Bachelor’s degree (B.A., B.S., B.Eng., etc.)</td>\n",
       "      <td>Very dissatisfied</td>\n",
       "      <td>MacOS</td>\n",
       "      <td>16</td>\n",
       "    </tr>\n",
       "    <tr>\n",
       "      <th>1742</th>\n",
       "      <td>42.0</td>\n",
       "      <td>12</td>\n",
       "      <td>100602.0</td>\n",
       "      <td>Chile</td>\n",
       "      <td>Some college/university study without earning ...</td>\n",
       "      <td>Very satisfied</td>\n",
       "      <td>MacOS</td>\n",
       "      <td>30</td>\n",
       "    </tr>\n",
       "    <tr>\n",
       "      <th>1842</th>\n",
       "      <td>35.0</td>\n",
       "      <td>15</td>\n",
       "      <td>105372.0</td>\n",
       "      <td>Chile</td>\n",
       "      <td>Some college/university study without earning ...</td>\n",
       "      <td>Very satisfied</td>\n",
       "      <td>Linux-based</td>\n",
       "      <td>20</td>\n",
       "    </tr>\n",
       "  </tbody>\n",
       "</table>\n",
       "</div>"
      ],
      "text/plain": [
       "       Age Age1stCode  ConvertedComp Country  \\\n",
       "289   18.0         13            NaN   Chile   \n",
       "1206  26.0          6        18060.0   Chile   \n",
       "1717  33.0         10        30108.0   Chile   \n",
       "1742  42.0         12       100602.0   Chile   \n",
       "1842  35.0         15       105372.0   Chile   \n",
       "\n",
       "                                                EdLevel              JobSat  \\\n",
       "289                           Primary/elementary school                 NaN   \n",
       "1206  Some college/university study without earning ...  Slightly satisfied   \n",
       "1717       Bachelor’s degree (B.A., B.S., B.Eng., etc.)   Very dissatisfied   \n",
       "1742  Some college/university study without earning ...      Very satisfied   \n",
       "1842  Some college/university study without earning ...      Very satisfied   \n",
       "\n",
       "            OpSys YearsCode  \n",
       "289       Windows         5  \n",
       "1206      Windows         8  \n",
       "1717        MacOS        16  \n",
       "1742        MacOS        30  \n",
       "1842  Linux-based        20  "
      ]
     },
     "execution_count": 23,
     "metadata": {},
     "output_type": "execute_result"
    }
   ],
   "source": [
    "df_chile = df.query('Country == \"Chile\"')\n",
    "df_chile.head()"
   ]
  },
  {
   "cell_type": "code",
   "execution_count": 24,
   "metadata": {},
   "outputs": [
    {
     "data": {
      "text/plain": [
       "JobSat\n",
       "Very satisfied                        33736.666667\n",
       "Slightly satisfied                    29066.000000\n",
       "Slightly dissatisfied                 23974.000000\n",
       "Very dissatisfied                     23881.500000\n",
       "Neither satisfied nor dissatisfied    23694.117647\n",
       "Name: ConvertedComp, dtype: float64"
      ]
     },
     "execution_count": 24,
     "metadata": {},
     "output_type": "execute_result"
    }
   ],
   "source": [
    "salarios_chile = df_chile.groupby('JobSat').mean()['ConvertedComp']\n",
    "salarios_chile = salarios_chile.sort_values(ascending=False)\n",
    "salarios_chile"
   ]
  },
  {
   "cell_type": "code",
   "execution_count": 25,
   "metadata": {},
   "outputs": [
    {
     "data": {
      "image/png": "[encoded data removed]",
      "text/plain": [
       "<Figure size 432x288 with 1 Axes>"
      ]
     },
     "metadata": {
      "needs_background": "light"
     },
     "output_type": "display_data"
    }
   ],
   "source": [
    "salarios_chile.plot.bar();"
   ]
  },
  {
   "cell_type": "markdown",
   "metadata": {},
   "source": [
    "    3) Crie um gráfico para analisar o uso dos Sistemas Operacionais (OpSys). \n",
    "    Qual a Sistema Operacional mais usado na França?"
   ]
  },
  {
   "cell_type": "code",
   "execution_count": 41,
   "metadata": {},
   "outputs": [
    {
     "data": {
      "text/plain": [
       "Linux-based    700\n",
       "Windows        658\n",
       "MacOS          336\n",
       "Name: OpSys, dtype: int64"
      ]
     },
     "execution_count": 41,
     "metadata": {},
     "output_type": "execute_result"
    }
   ],
   "source": [
    "so_franca = df_franca['OpSys'].value_counts()\n",
    "so_franca"
   ]
  },
  {
   "cell_type": "code",
   "execution_count": 42,
   "metadata": {},
   "outputs": [
    {
     "data": {
      "text/plain": [
       "<matplotlib.axes._subplots.AxesSubplot at 0x154458771c8>"
      ]
     },
     "execution_count": 42,
     "metadata": {},
     "output_type": "execute_result"
    },
    {
     "data": {
      "image/png": "[encoded data removed]",
      "text/plain": [
       "<Figure size 432x288 with 1 Axes>"
      ]
     },
     "metadata": {
      "needs_background": "light"
     },
     "output_type": "display_data"
    }
   ],
   "source": [
    "so_franca.plot.bar()"
   ]
  },
  {
   "cell_type": "markdown",
   "metadata": {},
   "source": [
    "R:  Linux"
   ]
  },
  {
   "cell_type": "markdown",
   "metadata": {},
   "source": [
    "    5) Crie um gráfico de dispersão com a idade (Age) e a média de salário por idade (ConvertedComp). \n",
    "    Filtre por Albânia e adicione uma linha de tendência. \n",
    "    Analisando a linha de tendência, podemos afirmar que à medida que a idade aumenta, o salário: "
   ]
  },
  {
   "cell_type": "code",
   "execution_count": 45,
   "metadata": {},
   "outputs": [
    {
     "data": {
      "text/html": [
       "<div>\n",
       "<style scoped>\n",
       "    .dataframe tbody tr th:only-of-type {\n",
       "        vertical-align: middle;\n",
       "    }\n",
       "\n",
       "    .dataframe tbody tr th {\n",
       "        vertical-align: top;\n",
       "    }\n",
       "\n",
       "    .dataframe thead th {\n",
       "        text-align: right;\n",
       "    }\n",
       "</style>\n",
       "<table border=\"1\" class=\"dataframe\">\n",
       "  <thead>\n",
       "    <tr style=\"text-align: right;\">\n",
       "      <th></th>\n",
       "      <th>Age</th>\n",
       "      <th>Age1stCode</th>\n",
       "      <th>ConvertedComp</th>\n",
       "      <th>Country</th>\n",
       "      <th>EdLevel</th>\n",
       "      <th>JobSat</th>\n",
       "      <th>OpSys</th>\n",
       "      <th>YearsCode</th>\n",
       "    </tr>\n",
       "  </thead>\n",
       "  <tbody>\n",
       "    <tr>\n",
       "      <th>3</th>\n",
       "      <td>25.0</td>\n",
       "      <td>18</td>\n",
       "      <td>NaN</td>\n",
       "      <td>Albania</td>\n",
       "      <td>Master’s degree (M.A., M.S., M.Eng., MBA, etc.)</td>\n",
       "      <td>Slightly dissatisfied</td>\n",
       "      <td>Linux-based</td>\n",
       "      <td>7</td>\n",
       "    </tr>\n",
       "    <tr>\n",
       "      <th>562</th>\n",
       "      <td>22.0</td>\n",
       "      <td>18</td>\n",
       "      <td>10812.0</td>\n",
       "      <td>Albania</td>\n",
       "      <td>Bachelor’s degree (B.A., B.S., B.Eng., etc.)</td>\n",
       "      <td>Very satisfied</td>\n",
       "      <td>Linux-based</td>\n",
       "      <td>3</td>\n",
       "    </tr>\n",
       "    <tr>\n",
       "      <th>9245</th>\n",
       "      <td>22.0</td>\n",
       "      <td>14</td>\n",
       "      <td>NaN</td>\n",
       "      <td>Albania</td>\n",
       "      <td>Some college/university study without earning ...</td>\n",
       "      <td>NaN</td>\n",
       "      <td>MacOS</td>\n",
       "      <td>8</td>\n",
       "    </tr>\n",
       "    <tr>\n",
       "      <th>9388</th>\n",
       "      <td>NaN</td>\n",
       "      <td>18</td>\n",
       "      <td>NaN</td>\n",
       "      <td>Albania</td>\n",
       "      <td>Master’s degree (M.A., M.S., M.Eng., MBA, etc.)</td>\n",
       "      <td>Slightly satisfied</td>\n",
       "      <td>Windows</td>\n",
       "      <td>5</td>\n",
       "    </tr>\n",
       "    <tr>\n",
       "      <th>10613</th>\n",
       "      <td>38.0</td>\n",
       "      <td>13</td>\n",
       "      <td>25944.0</td>\n",
       "      <td>Albania</td>\n",
       "      <td>Some college/university study without earning ...</td>\n",
       "      <td>Slightly satisfied</td>\n",
       "      <td>MacOS</td>\n",
       "      <td>20</td>\n",
       "    </tr>\n",
       "  </tbody>\n",
       "</table>\n",
       "</div>"
      ],
      "text/plain": [
       "        Age Age1stCode  ConvertedComp  Country  \\\n",
       "3      25.0         18            NaN  Albania   \n",
       "562    22.0         18        10812.0  Albania   \n",
       "9245   22.0         14            NaN  Albania   \n",
       "9388    NaN         18            NaN  Albania   \n",
       "10613  38.0         13        25944.0  Albania   \n",
       "\n",
       "                                                 EdLevel  \\\n",
       "3        Master’s degree (M.A., M.S., M.Eng., MBA, etc.)   \n",
       "562         Bachelor’s degree (B.A., B.S., B.Eng., etc.)   \n",
       "9245   Some college/university study without earning ...   \n",
       "9388     Master’s degree (M.A., M.S., M.Eng., MBA, etc.)   \n",
       "10613  Some college/university study without earning ...   \n",
       "\n",
       "                      JobSat        OpSys YearsCode  \n",
       "3      Slightly dissatisfied  Linux-based         7  \n",
       "562           Very satisfied  Linux-based         3  \n",
       "9245                     NaN        MacOS         8  \n",
       "9388      Slightly satisfied      Windows         5  \n",
       "10613     Slightly satisfied        MacOS        20  "
      ]
     },
     "execution_count": 45,
     "metadata": {},
     "output_type": "execute_result"
    }
   ],
   "source": [
    "df_albania = df.query('Country == \"Albania\"')\n",
    "df_albania.head()"
   ]
  },
  {
   "cell_type": "code",
   "execution_count": 48,
   "metadata": {},
   "outputs": [
    {
     "data": {
      "image/png": "[encoded data removed]",
      "text/plain": [
       "<Figure size 432x288 with 1 Axes>"
      ]
     },
     "metadata": {
      "needs_background": "light"
     },
     "output_type": "display_data"
    }
   ],
   "source": [
    "ax = sns.regplot(x=\"Age\", y=\"ConvertedComp\", data=df_albania)"
   ]
  },
  {
   "cell_type": "markdown",
   "metadata": {},
   "source": [
    "R:  Diminui"
   ]
  },
  {
   "cell_type": "markdown",
   "metadata": {},
   "source": [
    "    5)Crie um cartão para visualizar a média e outro para visualizar a mediana do salário (ConvertedComp) no Brasil. \n",
    "    Qual o valor da média e mediana, respectivamente?"
   ]
  },
  {
   "cell_type": "code",
   "execution_count": 49,
   "metadata": {},
   "outputs": [
    {
     "data": {
      "text/html": [
       "<div>\n",
       "<style scoped>\n",
       "    .dataframe tbody tr th:only-of-type {\n",
       "        vertical-align: middle;\n",
       "    }\n",
       "\n",
       "    .dataframe tbody tr th {\n",
       "        vertical-align: top;\n",
       "    }\n",
       "\n",
       "    .dataframe thead th {\n",
       "        text-align: right;\n",
       "    }\n",
       "</style>\n",
       "<table border=\"1\" class=\"dataframe\">\n",
       "  <thead>\n",
       "    <tr style=\"text-align: right;\">\n",
       "      <th></th>\n",
       "      <th>Age</th>\n",
       "      <th>Age1stCode</th>\n",
       "      <th>ConvertedComp</th>\n",
       "      <th>Country</th>\n",
       "      <th>EdLevel</th>\n",
       "      <th>JobSat</th>\n",
       "      <th>OpSys</th>\n",
       "      <th>YearsCode</th>\n",
       "    </tr>\n",
       "  </thead>\n",
       "  <tbody>\n",
       "    <tr>\n",
       "      <th>43</th>\n",
       "      <td>32.0</td>\n",
       "      <td>21</td>\n",
       "      <td>55893.0</td>\n",
       "      <td>Brazil</td>\n",
       "      <td>Master’s degree (M.A., M.S., M.Eng., MBA, etc.)</td>\n",
       "      <td>Neither satisfied nor dissatisfied</td>\n",
       "      <td>Windows</td>\n",
       "      <td>10</td>\n",
       "    </tr>\n",
       "    <tr>\n",
       "      <th>58</th>\n",
       "      <td>38.0</td>\n",
       "      <td>15</td>\n",
       "      <td>16488.0</td>\n",
       "      <td>Brazil</td>\n",
       "      <td>Bachelor’s degree (B.A., B.S., B.Eng., etc.)</td>\n",
       "      <td>Slightly satisfied</td>\n",
       "      <td>Windows</td>\n",
       "      <td>24</td>\n",
       "    </tr>\n",
       "    <tr>\n",
       "      <th>239</th>\n",
       "      <td>28.0</td>\n",
       "      <td>23</td>\n",
       "      <td>8244.0</td>\n",
       "      <td>Brazil</td>\n",
       "      <td>Some college/university study without earning ...</td>\n",
       "      <td>Slightly satisfied</td>\n",
       "      <td>Windows</td>\n",
       "      <td>5</td>\n",
       "    </tr>\n",
       "    <tr>\n",
       "      <th>308</th>\n",
       "      <td>27.0</td>\n",
       "      <td>18</td>\n",
       "      <td>8712.0</td>\n",
       "      <td>Brazil</td>\n",
       "      <td>Some college/university study without earning ...</td>\n",
       "      <td>Slightly satisfied</td>\n",
       "      <td>Windows</td>\n",
       "      <td>10</td>\n",
       "    </tr>\n",
       "    <tr>\n",
       "      <th>326</th>\n",
       "      <td>32.0</td>\n",
       "      <td>15</td>\n",
       "      <td>17184.0</td>\n",
       "      <td>Brazil</td>\n",
       "      <td>Bachelor’s degree (B.A., B.S., B.Eng., etc.)</td>\n",
       "      <td>Slightly satisfied</td>\n",
       "      <td>Linux-based</td>\n",
       "      <td>13</td>\n",
       "    </tr>\n",
       "  </tbody>\n",
       "</table>\n",
       "</div>"
      ],
      "text/plain": [
       "      Age Age1stCode  ConvertedComp Country  \\\n",
       "43   32.0         21        55893.0  Brazil   \n",
       "58   38.0         15        16488.0  Brazil   \n",
       "239  28.0         23         8244.0  Brazil   \n",
       "308  27.0         18         8712.0  Brazil   \n",
       "326  32.0         15        17184.0  Brazil   \n",
       "\n",
       "                                               EdLevel  \\\n",
       "43     Master’s degree (M.A., M.S., M.Eng., MBA, etc.)   \n",
       "58        Bachelor’s degree (B.A., B.S., B.Eng., etc.)   \n",
       "239  Some college/university study without earning ...   \n",
       "308  Some college/university study without earning ...   \n",
       "326       Bachelor’s degree (B.A., B.S., B.Eng., etc.)   \n",
       "\n",
       "                                 JobSat        OpSys YearsCode  \n",
       "43   Neither satisfied nor dissatisfied      Windows        10  \n",
       "58                   Slightly satisfied      Windows        24  \n",
       "239                  Slightly satisfied      Windows         5  \n",
       "308                  Slightly satisfied      Windows        10  \n",
       "326                  Slightly satisfied  Linux-based        13  "
      ]
     },
     "execution_count": 49,
     "metadata": {},
     "output_type": "execute_result"
    }
   ],
   "source": [
    "df_brasil = df.query('Country == \"Brazil\"')\n",
    "df_brasil.head()"
   ]
  },
  {
   "cell_type": "code",
   "execution_count": 50,
   "metadata": {},
   "outputs": [
    {
     "data": {
      "text/plain": [
       "(24941.354364736388, 17184.0)"
      ]
     },
     "execution_count": 50,
     "metadata": {},
     "output_type": "execute_result"
    }
   ],
   "source": [
    "df_brasil['ConvertedComp'].mean(), df_brasil['ConvertedComp'].median()"
   ]
  },
  {
   "cell_type": "markdown",
   "metadata": {},
   "source": [
    "R:  24.940 e 17.000"
   ]
  },
  {
   "cell_type": "markdown",
   "metadata": {},
   "source": [
    "    6)Crie um gráfico para analisar o nível de formação dos desenvolvedores (EdLevel). \n",
    "    Aplicando um filtro que remove apenas os registros dos Estados Unidos, qual é o país com maior número de desenvolvedores que nunca tiveram uma educação formal? "
   ]
  },
  {
   "cell_type": "code",
   "execution_count": 52,
   "metadata": {},
   "outputs": [
    {
     "data": {
      "text/html": [
       "<div>\n",
       "<style scoped>\n",
       "    .dataframe tbody tr th:only-of-type {\n",
       "        vertical-align: middle;\n",
       "    }\n",
       "\n",
       "    .dataframe tbody tr th {\n",
       "        vertical-align: top;\n",
       "    }\n",
       "\n",
       "    .dataframe thead th {\n",
       "        text-align: right;\n",
       "    }\n",
       "</style>\n",
       "<table border=\"1\" class=\"dataframe\">\n",
       "  <thead>\n",
       "    <tr style=\"text-align: right;\">\n",
       "      <th></th>\n",
       "      <th>Age</th>\n",
       "      <th>Age1stCode</th>\n",
       "      <th>ConvertedComp</th>\n",
       "      <th>Country</th>\n",
       "      <th>EdLevel</th>\n",
       "      <th>JobSat</th>\n",
       "      <th>OpSys</th>\n",
       "      <th>YearsCode</th>\n",
       "    </tr>\n",
       "  </thead>\n",
       "  <tbody>\n",
       "    <tr>\n",
       "      <th>223</th>\n",
       "      <td>NaN</td>\n",
       "      <td>7</td>\n",
       "      <td>NaN</td>\n",
       "      <td>Finland</td>\n",
       "      <td>I never completed any formal education</td>\n",
       "      <td>Slightly dissatisfied</td>\n",
       "      <td>Windows</td>\n",
       "      <td>15</td>\n",
       "    </tr>\n",
       "    <tr>\n",
       "      <th>487</th>\n",
       "      <td>39.0</td>\n",
       "      <td>33</td>\n",
       "      <td>312.0</td>\n",
       "      <td>Kyrgyzstan</td>\n",
       "      <td>I never completed any formal education</td>\n",
       "      <td>Very dissatisfied</td>\n",
       "      <td>Windows</td>\n",
       "      <td>4</td>\n",
       "    </tr>\n",
       "    <tr>\n",
       "      <th>653</th>\n",
       "      <td>NaN</td>\n",
       "      <td>28</td>\n",
       "      <td>NaN</td>\n",
       "      <td>Israel</td>\n",
       "      <td>I never completed any formal education</td>\n",
       "      <td>NaN</td>\n",
       "      <td>Windows</td>\n",
       "      <td>20</td>\n",
       "    </tr>\n",
       "    <tr>\n",
       "      <th>666</th>\n",
       "      <td>36.0</td>\n",
       "      <td>25</td>\n",
       "      <td>23267.0</td>\n",
       "      <td>United Kingdom</td>\n",
       "      <td>I never completed any formal education</td>\n",
       "      <td>Very satisfied</td>\n",
       "      <td>Windows</td>\n",
       "      <td>11</td>\n",
       "    </tr>\n",
       "    <tr>\n",
       "      <th>910</th>\n",
       "      <td>20.0</td>\n",
       "      <td>15</td>\n",
       "      <td>NaN</td>\n",
       "      <td>Israel</td>\n",
       "      <td>I never completed any formal education</td>\n",
       "      <td>NaN</td>\n",
       "      <td>Windows</td>\n",
       "      <td>5</td>\n",
       "    </tr>\n",
       "  </tbody>\n",
       "</table>\n",
       "</div>"
      ],
      "text/plain": [
       "      Age Age1stCode  ConvertedComp         Country  \\\n",
       "223   NaN          7            NaN         Finland   \n",
       "487  39.0         33          312.0      Kyrgyzstan   \n",
       "653   NaN         28            NaN          Israel   \n",
       "666  36.0         25        23267.0  United Kingdom   \n",
       "910  20.0         15            NaN          Israel   \n",
       "\n",
       "                                    EdLevel                 JobSat    OpSys  \\\n",
       "223  I never completed any formal education  Slightly dissatisfied  Windows   \n",
       "487  I never completed any formal education      Very dissatisfied  Windows   \n",
       "653  I never completed any formal education                    NaN  Windows   \n",
       "666  I never completed any formal education         Very satisfied  Windows   \n",
       "910  I never completed any formal education                    NaN  Windows   \n",
       "\n",
       "    YearsCode  \n",
       "223        15  \n",
       "487         4  \n",
       "653        20  \n",
       "666        11  \n",
       "910         5  "
      ]
     },
     "execution_count": 52,
     "metadata": {},
     "output_type": "execute_result"
    }
   ],
   "source": [
    "df_not_us = df.query('Country != \"United States\" & EdLevel == \"I never completed any formal education\"')\n",
    "df_not_us.head()"
   ]
  },
  {
   "cell_type": "code",
   "execution_count": 53,
   "metadata": {
    "scrolled": true
   },
   "outputs": [
    {
     "data": {
      "text/plain": [
       "India                                   56\n",
       "Israel                                  22\n",
       "Indonesia                               17\n",
       "United Kingdom                          17\n",
       "Bangladesh                              14\n",
       "                                        ..\n",
       "Denmark                                  1\n",
       "Sierra Leone                             1\n",
       "Venezuela, Bolivarian Republic of...     1\n",
       "Kenya                                    1\n",
       "Uruguay                                  1\n",
       "Name: Country, Length: 97, dtype: int64"
      ]
     },
     "execution_count": 53,
     "metadata": {},
     "output_type": "execute_result"
    }
   ],
   "source": [
    "df_not_us['Country'].value_counts()"
   ]
  },
  {
   "cell_type": "markdown",
   "metadata": {},
   "source": [
    "R: Índia"
   ]
  },
  {
   "cell_type": "markdown",
   "metadata": {},
   "source": [
    "    7) Crie um gráfico de forma que consiga visualizar quando os desenvolvedores começaram a trabalhar na área (Age1stCode). Com que idade a maioria das pessoas começa a programar no Brasil? "
   ]
  },
  {
   "cell_type": "code",
   "execution_count": 59,
   "metadata": {},
   "outputs": [
    {
     "data": {
      "text/plain": [
       "17                      202\n",
       "15                      198\n",
       "18                      174\n",
       "14                      169\n",
       "16                      164\n",
       "12                      112\n",
       "13                       96\n",
       "19                       93\n",
       "20                       70\n",
       "10                       62\n",
       "11                       49\n",
       "21                       32\n",
       "22                       30\n",
       "9                        26\n",
       "8                        22\n",
       "25                       21\n",
       "23                       17\n",
       "24                       13\n",
       "7                         9\n",
       "26                        9\n",
       "28                        9\n",
       "Younger than 5 years      9\n",
       "29                        7\n",
       "5                         7\n",
       "27                        7\n",
       "32                        5\n",
       "35                        4\n",
       "6                         4\n",
       "30                        4\n",
       "40                        2\n",
       "31                        2\n",
       "38                        1\n",
       "34                        1\n",
       "45                        1\n",
       "Name: Age1stCode, dtype: int64"
      ]
     },
     "execution_count": 59,
     "metadata": {},
     "output_type": "execute_result"
    }
   ],
   "source": [
    "df_brasil['Age1stCode'].value_counts()"
   ]
  },
  {
   "cell_type": "markdown",
   "metadata": {},
   "source": [
    "R: 17"
   ]
  },
  {
   "cell_type": "markdown",
   "metadata": {},
   "source": [
    "## SQL"
   ]
  },
  {
   "cell_type": "markdown",
   "metadata": {},
   "source": [
    "    8) Considere o banco de dados do enunciado. Crie uma consulta em SQL e responda: Qual a média salarial nessa empresa? "
   ]
  },
  {
   "cell_type": "markdown",
   "metadata": {},
   "source": [
    "`SELECT AVG(salario) FROM empregado;`\n",
    "\n",
    "R: 35125"
   ]
  },
  {
   "cell_type": "markdown",
   "metadata": {},
   "source": [
    "    9) Considere o banco de dados do enunciado. \n",
    "    Crie uma consulta em SQL e responda: \n",
    "    Quantos empregados do departamento 5 trabalham mais de 10h por semana no projeto chamado \"ProductX\"? \n",
    "    \n",
    "`\n",
    "SELECT COUNT(*)\n",
    "FROM empregado e\n",
    "INNER JOIN trabalha_em tr\n",
    "ON e.ssn = tr.essn\n",
    "INNER JOIN projeto pr\n",
    "ON tr.pno = pr.pnumero\n",
    "WHERE pr.pjnome LIKE 'ProductX' \n",
    "AND pr.dnum = 5\n",
    "AND tr.horas > 10;\n",
    "`\n",
    "\n",
    "R: 2\n"
   ]
  },
  {
   "cell_type": "markdown",
   "metadata": {},
   "source": [
    "    10) Considere o banco de dados do enunciado. \n",
    "    Crie uma consulta em SQL e responda: \n",
    "    Quantos empregados possuem um dependente com o mesmo primeiro nome que o deles? \n",
    "\n",
    "`\n",
    "SELECT COUNT(*)\n",
    "FROM empregado e\n",
    "INNER JOIN dependente d\n",
    "ON e.ssn = d.essn\n",
    "WHERE e.pnome = d.nome_dependente;\n",
    "`\n",
    "\n",
    "R: 0"
   ]
  },
  {
   "cell_type": "markdown",
   "metadata": {},
   "source": [
    "    11) Considere o banco de dados do enunciado. \n",
    "    Crie uma consulta em SQL e responda: \n",
    "    Quais os nomes de todos os empregados que são diretamente supervisionados por Franklin Wong \n",
    "\n",
    "`\n",
    "SELECT e.pnome\n",
    "FROM empregado e\n",
    "INNER JOIN empregado sup\n",
    "ON e.superssn = sup.ssn\n",
    "WHERE sup.pnome LIKE 'Franklin' \n",
    "AND sup.unome LIKE 'Wong';   \n",
    "`\n",
    "\n",
    "R: Joyce e Ramesh"
   ]
  },
  {
   "cell_type": "markdown",
   "metadata": {},
   "source": [
    "    12) Considere o banco de dados do enunciado. \n",
    "    Crie uma consulta em SQL e responda: \n",
    "    Quem é a pessoa que possui mais tempo de alocação no projeto 'Newbenefits'?\n",
    "    \n",
    "\n",
    "`\n",
    "SELECT e.pnome\n",
    "FROM empregado e\n",
    "INNER JOIN trabalha_em tr\n",
    "ON e.ssn = tr.essn\n",
    "INNER JOIN projeto pr\n",
    "ON tr.pno = pr.pnumero\n",
    "WHERE pr.pjnome LIKE 'Newbenefits'\n",
    "ORDER BY tr.horas DESC\n",
    "LIMIT 1;\n",
    "`\n",
    "\n",
    "R:  Alicia."
   ]
  },
  {
   "cell_type": "markdown",
   "metadata": {},
   "source": [
    "    13) Considere o banco de dados do enunciado. \n",
    "    Crie uma consulta em SQL e responda: \n",
    "    Qual é a soma dos salários de todos os empregados do departamento chamado 'Research'? \n",
    "   \n",
    "`\n",
    "SELECT SUM(e.salario)\n",
    "FROM empregado e\n",
    "INNER JOIN departamento dp\n",
    "ON e.dno = dp.dnumero\n",
    "WHERE dp.dnome LIKE 'Research';\n",
    "`\n",
    "\n",
    "R: 133000"
   ]
  },
  {
   "cell_type": "markdown",
   "metadata": {},
   "source": [
    "    14) Considere o banco de dados do enunciado. \n",
    "    Crie uma consulta em SQL e responda: \n",
    "    Qual seria o custo do projeto com folha salarial (soma de todos os salários) caso a empresa desse 10% de aumento para todos os empregados que trabalham no projeto 'ProductX'? \n",
    "\n",
    "`\n",
    "SELECT SUM(e.salario)*1.1\n",
    "FROM empregado e\n",
    "INNER JOIN trabalha_em tr\n",
    "ON e.ssn = tr.essn\n",
    "INNER JOIN projeto pr\n",
    "ON tr.pno = pr.pnumero\n",
    "WHERE pr.pjnome LIKE 'ProductX';\n",
    "`\n",
    "    \n",
    "R: 60500"
   ]
  },
  {
   "cell_type": "markdown",
   "metadata": {},
   "source": [
    "    15) Considere o banco de dados do enunciado. \n",
    "    Crie uma consulta em SQL e responda: \n",
    "    Qual o nome do departamento com a menor média de salário entre seus funcionários? \n",
    "    \n",
    "`\n",
    "SELECT dp.dnome, AVG(salario) \n",
    "FROM empregado e \n",
    "INNER JOIN departamento dp\n",
    "ON dp.dnumero = e.dno\n",
    "GROUP BY dp.dnome\n",
    "ORDER BY AVG(salario)\n",
    "LIMIT 1;\n",
    "`\n",
    "\n",
    "R: Administration."
   ]
  }
 ],
 "metadata": {
  "kernelspec": {
   "display_name": "Python 3",
   "language": "python",
   "name": "python3"
  },
  "language_info": {
   "codemirror_mode": {
    "name": "ipython",
    "version": 3
   },
   "file_extension": ".py",
   "mimetype": "text/x-python",
   "name": "python",
   "nbconvert_exporter": "python",
   "pygments_lexer": "ipython3",
   "version": "3.7.6"
  }
 },
 "nbformat": 4,
 "nbformat_minor": 4
}
